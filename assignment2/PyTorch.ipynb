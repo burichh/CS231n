{
 "cells": [
  {
   "cell_type": "code",
   "execution_count": null,
   "id": "a37776ca",
   "metadata": {},
   "outputs": [],
   "source": [
    "# This mounts your Google Drive to the Colab VM.\n",
    "from google.colab import drive\n",
    "drive.mount('/content/drive')\n",
    "\n",
    "# TODO: Enter the foldername in your Drive where you have saved the unzipped\n",
    "# assignment folder, e.g. 'cs231n/assignments/assignment2/'\n",
    "FOLDERNAME = None\n",
    "assert FOLDERNAME is not None, \"[!] Enter the foldername.\"\n",
    "\n",
    "# Now that we've mounted your Drive, this ensures that\n",
    "# the Python interpreter of the Colab VM can load\n",
    "# python files from within it.\n",
    "import sys\n",
    "sys.path.append('/content/drive/My Drive/{}'.format(FOLDERNAME))\n",
    "\n",
    "# This downloads the CIFAR-10 dataset to your Drive\n",
    "# if it doesn't already exist.\n",
    "%cd /content/drive/My\\ Drive/$FOLDERNAME/cs231n/datasets/\n",
    "!bash get_datasets.sh\n",
    "%cd /content/drive/My\\ Drive/$FOLDERNAME"
   ]
  },
  {
   "attachments": {},
   "cell_type": "markdown",
   "id": "ac30f3e5",
   "metadata": {
    "tags": [
     "pdf-title"
    ]
   },
   "source": [
    "# Introduction to PyTorch\n",
    "\n",
    "You've written a lot of code in this assignment to provide a whole host of neural network functionality. Dropout, Batch Norm, and 2D convolutions are some of the workhorses of deep learning in computer vision. You've also worked hard to make your code efficient and vectorized.\n",
    "\n",
    "For the last part of this assignment, though, we're going to leave behind your beautiful codebase and instead migrate to one of two popular deep learning frameworks: in this instance, PyTorch."
   ]
  },
  {
   "attachments": {},
   "cell_type": "markdown",
   "id": "ef99f37e",
   "metadata": {
    "tags": [
     "pdf-ignore"
    ]
   },
   "source": [
    "## Why do we use deep learning frameworks?\n",
    "\n",
    "* Our code will now run on GPUs! This will allow our models to train much faster. When using a framework like PyTorch you can harness the power of the GPU for your own custom neural network architectures without having to write CUDA code directly (which is beyond the scope of this class).\n",
    "* In this class, we want you to be ready to use one of these frameworks for your project so you can experiment more efficiently than if you were writing every feature you want to use by hand. \n",
    "* We want you to stand on the shoulders of giants! PyTorch is an excellent frameworks that will make your lives a lot easier, and now that you understand their guts, you are free to use them :) \n",
    "* Finally, we want you to be exposed to the sort of deep learning code you might run into in academia or industry.\n",
    "\n",
    "## What is PyTorch?\n",
    "\n",
    "PyTorch is a system for executing dynamic computational graphs over Tensor objects that behave similarly as numpy ndarray. It comes with a powerful automatic differentiation engine that removes the need for manual back-propagation. \n",
    "\n",
    "## How do I learn PyTorch?\n",
    "\n",
    "One of our former instructors, Justin Johnson, made an excellent [tutorial](https://github.com/jcjohnson/pytorch-examples) for PyTorch. \n",
    "\n",
    "You can also find the detailed [API doc](http://pytorch.org/docs/stable/index.html) here. If you have other questions that are not addressed by the API docs, the [PyTorch forum](https://discuss.pytorch.org/) is a much better place to ask than StackOverflow."
   ]
  },
  {
   "cell_type": "markdown",
   "id": "91372cc3",
   "metadata": {},
   "source": [
    "# Table of Contents\n",
    "\n",
    "This assignment has 5 parts. You will learn PyTorch on **three different levels of abstraction**, which will help you understand it better and prepare you for the final project. \n",
    "\n",
    "1. Part I, Preparation: we will use CIFAR-10 dataset.\n",
    "2. Part II, Barebones PyTorch: **Abstraction level 1**, we will work directly with the lowest-level PyTorch Tensors. \n",
    "3. Part III, PyTorch Module API: **Abstraction level 2**, we will use `nn.Module` to define arbitrary neural network architecture. \n",
    "4. Part IV, PyTorch Sequential API: **Abstraction level 3**, we will use `nn.Sequential` to define a linear feed-forward network very conveniently. \n",
    "5. Part V, CIFAR-10 open-ended challenge: please implement your own network to get as high accuracy as possible on CIFAR-10. You can experiment with any layer, optimizer, hyperparameters or other advanced features. \n",
    "\n",
    "Here is a table of comparison:\n",
    "\n",
    "| API           | Flexibility | Convenience |\n",
    "|---------------|-------------|-------------|\n",
    "| Barebone      | High        | Low         |\n",
    "| `nn.Module`     | High        | Medium      |\n",
    "| `nn.Sequential` | Low         | High        |"
   ]
  },
  {
   "cell_type": "markdown",
   "id": "6a2c49a1",
   "metadata": {
    "tags": [
     "pdf-ignore"
    ]
   },
   "source": [
    "# GPU\n",
    "\n",
    "You can manually switch to a GPU device on Colab by clicking `Runtime -> Change runtime type` and selecting `GPU` under `Hardware Accelerator`. You should do this before running the following cells to import packages, since the kernel gets restarted upon switching runtimes."
   ]
  },
  {
   "cell_type": "code",
   "execution_count": 1,
   "id": "b6ee2096",
   "metadata": {
    "tags": [
     "pdf-ignore"
    ]
   },
   "outputs": [
    {
     "name": "stdout",
     "output_type": "stream",
     "text": [
      "using device: cuda\n"
     ]
    }
   ],
   "source": [
    "import torch\n",
    "import torch.nn as nn\n",
    "import torch.optim as optim\n",
    "from torch.utils.data import DataLoader\n",
    "from torch.utils.data import sampler\n",
    "\n",
    "import torchvision.datasets as dset\n",
    "import torchvision.transforms as T\n",
    "\n",
    "import numpy as np\n",
    "\n",
    "USE_GPU = True\n",
    "dtype = torch.float32 # We will be using float throughout this tutorial.\n",
    "\n",
    "if USE_GPU and torch.cuda.is_available():\n",
    "    device = torch.device('cuda')\n",
    "else:\n",
    "    device = torch.device('cpu')\n",
    "\n",
    "# Constant to control how frequently we print train loss.\n",
    "print_every = 100\n",
    "print('using device:', device)"
   ]
  },
  {
   "cell_type": "markdown",
   "id": "1e4561c3",
   "metadata": {},
   "source": [
    "# Part I. Preparation\n",
    "\n",
    "Now, let's load the CIFAR-10 dataset. This might take a couple minutes the first time you do it, but the files should stay cached after that.\n",
    "\n",
    "In previous parts of the assignment we had to write our own code to download the CIFAR-10 dataset, preprocess it, and iterate through it in minibatches; PyTorch provides convenient tools to automate this process for us."
   ]
  },
  {
   "cell_type": "code",
   "execution_count": 140,
   "id": "1996c4b6",
   "metadata": {
    "tags": [
     "pdf-ignore"
    ]
   },
   "outputs": [
    {
     "name": "stdout",
     "output_type": "stream",
     "text": [
      "Files already downloaded and verified\n",
      "Files already downloaded and verified\n",
      "Files already downloaded and verified\n"
     ]
    }
   ],
   "source": [
    "NUM_TRAIN = 49000\n",
    "batch_size = 256\n",
    "\n",
    "# The torchvision.transforms package provides tools for preprocessing data\n",
    "# and for performing data augmentation; here we set up a transform to\n",
    "# preprocess the data by subtracting the mean RGB value and dividing by the\n",
    "# standard deviation of each RGB value; we've hardcoded the mean and std.\n",
    "transform = T.Compose([\n",
    "                T.ToTensor(),\n",
    "                T.Normalize((0.4914, 0.4822, 0.4465), (0.2023, 0.1994, 0.2010))\n",
    "            ])\n",
    "\n",
    "# We set up a Dataset object for each split (train / val / test); Datasets load\n",
    "# training examples one at a time, so we wrap each Dataset in a DataLoader which\n",
    "# iterates through the Dataset and forms minibatches. We divide the CIFAR-10\n",
    "# training set into train and val sets by passing a Sampler object to the\n",
    "# DataLoader telling how it should sample from the underlying Dataset.\n",
    "cifar10_train = dset.CIFAR10('./cs231n/datasets', train=True, download=True,\n",
    "                             transform=transform)\n",
    "loader_train = DataLoader(cifar10_train, batch_size=batch_size, \n",
    "                          sampler=sampler.SubsetRandomSampler(range(NUM_TRAIN)))\n",
    "\n",
    "cifar10_val = dset.CIFAR10('./cs231n/datasets', train=True, download=True,\n",
    "                           transform=transform)\n",
    "loader_val = DataLoader(cifar10_val, batch_size=batch_size, \n",
    "                        sampler=sampler.SubsetRandomSampler(range(NUM_TRAIN, 50000)))\n",
    "\n",
    "cifar10_test = dset.CIFAR10('./cs231n/datasets', train=False, download=True, \n",
    "                            transform=transform)\n",
    "loader_test = DataLoader(cifar10_test, batch_size=batch_size)"
   ]
  },
  {
   "cell_type": "markdown",
   "id": "b6c26074",
   "metadata": {},
   "source": [
    "# Part II. Barebones PyTorch\n",
    "\n",
    "PyTorch ships with high-level APIs to help us define model architectures conveniently, which we will cover in Part II of this tutorial. In this section, we will start with the barebone PyTorch elements to understand the autograd engine better. After this exercise, you will come to appreciate the high-level model API more.\n",
    "\n",
    "We will start with a simple fully-connected ReLU network with two hidden layers and no biases for CIFAR classification. \n",
    "This implementation computes the forward pass using operations on PyTorch Tensors, and uses PyTorch autograd to compute gradients. It is important that you understand every line, because you will write a harder version after the example.\n",
    "\n",
    "When we create a PyTorch Tensor with `requires_grad=True`, then operations involving that Tensor will not just compute values; they will also build up a computational graph in the background, allowing us to easily backpropagate through the graph to compute gradients of some Tensors with respect to a downstream loss. Concretely if x is a Tensor with `x.requires_grad == True` then after backpropagation `x.grad` will be another Tensor holding the gradient of x with respect to the scalar loss at the end."
   ]
  },
  {
   "cell_type": "markdown",
   "id": "02032a57",
   "metadata": {
    "tags": [
     "pdf-ignore"
    ]
   },
   "source": [
    "### PyTorch Tensors: Flatten Function\n",
    "A PyTorch Tensor is conceptionally similar to a numpy array: it is an n-dimensional grid of numbers, and like numpy PyTorch provides many functions to efficiently operate on Tensors. As a simple example, we provide a `flatten` function below which reshapes image data for use in a fully-connected neural network.\n",
    "\n",
    "Recall that image data is typically stored in a Tensor of shape N x C x H x W, where:\n",
    "\n",
    "* N is the number of datapoints\n",
    "* C is the number of channels\n",
    "* H is the height of the intermediate feature map in pixels\n",
    "* W is the height of the intermediate feature map in pixels\n",
    "\n",
    "This is the right way to represent the data when we are doing something like a 2D convolution, that needs spatial understanding of where the intermediate features are relative to each other. When we use fully connected affine layers to process the image, however, we want each datapoint to be represented by a single vector -- it's no longer useful to segregate the different channels, rows, and columns of the data. So, we use a \"flatten\" operation to collapse the `C x H x W` values per representation into a single long vector. The flatten function below first reads in the N, C, H, and W values from a given batch of data, and then returns a \"view\" of that data. \"View\" is analogous to numpy's \"reshape\" method: it reshapes x's dimensions to be N x ??, where ?? is allowed to be anything (in this case, it will be C x H x W, but we don't need to specify that explicitly). "
   ]
  },
  {
   "cell_type": "code",
   "execution_count": 3,
   "id": "54ee9208",
   "metadata": {
    "tags": [
     "pdf-ignore-input"
    ]
   },
   "outputs": [
    {
     "name": "stdout",
     "output_type": "stream",
     "text": [
      "Before flattening:  tensor([[[[ 0,  1],\n",
      "          [ 2,  3],\n",
      "          [ 4,  5]]],\n",
      "\n",
      "\n",
      "        [[[ 6,  7],\n",
      "          [ 8,  9],\n",
      "          [10, 11]]]])\n",
      "After flattening:  tensor([[ 0,  1,  2,  3,  4,  5],\n",
      "        [ 6,  7,  8,  9, 10, 11]])\n"
     ]
    }
   ],
   "source": [
    "def flatten(x):\n",
    "    N = x.shape[0] # read in N, C, H, W\n",
    "    return x.view(N, -1)  # \"flatten\" the C * H * W values into a single vector per image\n",
    "\n",
    "def test_flatten():\n",
    "    x = torch.arange(12).view(2, 1, 3, 2)\n",
    "    print('Before flattening: ', x)\n",
    "    print('After flattening: ', flatten(x))\n",
    "\n",
    "test_flatten()"
   ]
  },
  {
   "cell_type": "markdown",
   "id": "8d8b0aff",
   "metadata": {
    "tags": [
     "pdf-ignore"
    ]
   },
   "source": [
    "### Barebones PyTorch: Two-Layer Network\n",
    "\n",
    "Here we define a function `two_layer_fc` which performs the forward pass of a two-layer fully-connected ReLU network on a batch of image data. After defining the forward pass we check that it doesn't crash and that it produces outputs of the right shape by running zeros through the network.\n",
    "\n",
    "You don't have to write any code here, but it's important that you read and understand the implementation."
   ]
  },
  {
   "cell_type": "code",
   "execution_count": 4,
   "id": "5b090c7b",
   "metadata": {
    "tags": [
     "pdf-ignore-input"
    ]
   },
   "outputs": [
    {
     "name": "stdout",
     "output_type": "stream",
     "text": [
      "torch.Size([64, 10])\n"
     ]
    }
   ],
   "source": [
    "import torch.nn.functional as F  # useful stateless functions\n",
    "\n",
    "def two_layer_fc(x, params):\n",
    "    \"\"\"\n",
    "    A fully-connected neural networks; the architecture is:\n",
    "    NN is fully connected -> ReLU -> fully connected layer.\n",
    "    Note that this function only defines the forward pass; \n",
    "    PyTorch will take care of the backward pass for us.\n",
    "    \n",
    "    The input to the network will be a minibatch of data, of shape\n",
    "    (N, d1, ..., dM) where d1 * ... * dM = D. The hidden layer will have H units,\n",
    "    and the output layer will produce scores for C classes.\n",
    "    \n",
    "    Inputs:\n",
    "    - x: A PyTorch Tensor of shape (N, d1, ..., dM) giving a minibatch of\n",
    "      input data.\n",
    "    - params: A list [w1, w2] of PyTorch Tensors giving weights for the network;\n",
    "      w1 has shape (D, H) and w2 has shape (H, C).\n",
    "    \n",
    "    Returns:\n",
    "    - scores: A PyTorch Tensor of shape (N, C) giving classification scores for\n",
    "      the input data x.\n",
    "    \"\"\"\n",
    "    # first we flatten the image\n",
    "    x = flatten(x)  # shape: [batch_size, C x H x W]\n",
    "    \n",
    "    w1, w2 = params\n",
    "    \n",
    "    # Forward pass: compute predicted y using operations on Tensors. Since w1 and\n",
    "    # w2 have requires_grad=True, operations involving these Tensors will cause\n",
    "    # PyTorch to build a computational graph, allowing automatic computation of\n",
    "    # gradients. Since we are no longer implementing the backward pass by hand we\n",
    "    # don't need to keep references to intermediate values.\n",
    "    # you can also use `.clamp(min=0)`, equivalent to F.relu()\n",
    "    x = F.relu(x.mm(w1))\n",
    "    x = x.mm(w2)\n",
    "    return x\n",
    "    \n",
    "\n",
    "def two_layer_fc_test():\n",
    "    hidden_layer_size = 42\n",
    "    x = torch.zeros((64, 50), dtype=dtype)  # minibatch size 64, feature dimension 50\n",
    "    w1 = torch.zeros((50, hidden_layer_size), dtype=dtype)\n",
    "    w2 = torch.zeros((hidden_layer_size, 10), dtype=dtype)\n",
    "    scores = two_layer_fc(x, [w1, w2])\n",
    "    print(scores.size())  # you should see [64, 10]\n",
    "\n",
    "two_layer_fc_test()"
   ]
  },
  {
   "cell_type": "markdown",
   "id": "c98b4f11",
   "metadata": {},
   "source": [
    "### Barebones PyTorch: Three-Layer ConvNet\n",
    "\n",
    "Here you will complete the implementation of the function `three_layer_convnet`, which will perform the forward pass of a three-layer convolutional network. Like above, we can immediately test our implementation by passing zeros through the network. The network should have the following architecture:\n",
    "\n",
    "1. A convolutional layer (with bias) with `channel_1` filters, each with shape `KW1 x KH1`, and zero-padding of two\n",
    "2. ReLU nonlinearity\n",
    "3. A convolutional layer (with bias) with `channel_2` filters, each with shape `KW2 x KH2`, and zero-padding of one\n",
    "4. ReLU nonlinearity\n",
    "5. Fully-connected layer with bias, producing scores for C classes.\n",
    "\n",
    "Note that we have **no softmax activation** here after our fully-connected layer: this is because PyTorch's cross entropy loss performs a softmax activation for you, and by bundling that step in makes computation more efficient.\n",
    "\n",
    "**HINT**: For convolutions: http://pytorch.org/docs/stable/nn.html#torch.nn.functional.conv2d; pay attention to the shapes of convolutional filters!"
   ]
  },
  {
   "cell_type": "code",
   "execution_count": 15,
   "id": "4082442f",
   "metadata": {},
   "outputs": [],
   "source": [
    "def three_layer_convnet(x, params):\n",
    "    \"\"\"\n",
    "    Performs the forward pass of a three-layer convolutional network with the\n",
    "    architecture defined above.\n",
    "\n",
    "    Inputs:\n",
    "    - x: A PyTorch Tensor of shape (N, 3, H, W) giving a minibatch of images\n",
    "    - params: A list of PyTorch Tensors giving the weights and biases for the\n",
    "      network; should contain the following:\n",
    "      - conv_w1: PyTorch Tensor of shape (channel_1, 3, KH1, KW1) giving weights\n",
    "        for the first convolutional layer\n",
    "      - conv_b1: PyTorch Tensor of shape (channel_1,) giving biases for the first\n",
    "        convolutional layer\n",
    "      - conv_w2: PyTorch Tensor of shape (channel_2, channel_1, KH2, KW2) giving\n",
    "        weights for the second convolutional layer\n",
    "      - conv_b2: PyTorch Tensor of shape (channel_2,) giving biases for the second\n",
    "        convolutional layer\n",
    "      - fc_w: PyTorch Tensor giving weights for the fully-connected layer. Can you\n",
    "        figure out what the shape should be?\n",
    "      - fc_b: PyTorch Tensor giving biases for the fully-connected layer. Can you\n",
    "        figure out what the shape should be?\n",
    "    \n",
    "    Returns:\n",
    "    - scores: PyTorch Tensor of shape (N, C) giving classification scores for x\n",
    "    \"\"\"\n",
    "    conv_w1, conv_b1, conv_w2, conv_b2, fc_w, fc_b = params\n",
    "    scores = None\n",
    "    ################################################################################\n",
    "    # TODO: Implement the forward pass for the three-layer ConvNet.                #\n",
    "    ################################################################################\n",
    "    # *****START OF YOUR CODE (DO NOT DELETE/MODIFY THIS LINE)*****\n",
    "\n",
    "    x = F.relu(F.conv2d(x, conv_w1, conv_b1, padding=2))\n",
    "    x = F.relu(F.conv2d(x, conv_w2, conv_b2, padding=1))\n",
    "    x = flatten(x)\n",
    "    scores = x.mm(fc_w) + fc_b\n",
    "\n",
    "    # *****END OF YOUR CODE (DO NOT DELETE/MODIFY THIS LINE)*****\n",
    "    ################################################################################\n",
    "    #                                 END OF YOUR CODE                             #\n",
    "    ################################################################################\n",
    "    return scores"
   ]
  },
  {
   "cell_type": "markdown",
   "id": "08d9312d",
   "metadata": {},
   "source": [
    "After defining the forward pass of the ConvNet above, run the following cell to test your implementation.\n",
    "\n",
    "When you run this function, scores should have shape (64, 10)."
   ]
  },
  {
   "cell_type": "code",
   "execution_count": 16,
   "id": "f929a029",
   "metadata": {
    "tags": [
     "pdf-ignore-input"
    ],
    "test": "barebones_output_shape"
   },
   "outputs": [
    {
     "name": "stdout",
     "output_type": "stream",
     "text": [
      "torch.Size([64, 10])\n"
     ]
    }
   ],
   "source": [
    "def three_layer_convnet_test():\n",
    "    x = torch.zeros((64, 3, 32, 32), dtype=dtype)  # minibatch size 64, image size [3, 32, 32]\n",
    "\n",
    "    conv_w1 = torch.zeros((6, 3, 5, 5), dtype=dtype)  # [out_channel, in_channel, kernel_H, kernel_W]\n",
    "    conv_b1 = torch.zeros((6,))  # out_channel\n",
    "    conv_w2 = torch.zeros((9, 6, 3, 3), dtype=dtype)  # [out_channel, in_channel, kernel_H, kernel_W]\n",
    "    conv_b2 = torch.zeros((9,))  # out_channel\n",
    "\n",
    "    # you must calculate the shape of the tensor after two conv layers, before the fully-connected layer\n",
    "    fc_w = torch.zeros((9 * 32 * 32, 10))\n",
    "    fc_b = torch.zeros(10)\n",
    "\n",
    "    scores = three_layer_convnet(x, [conv_w1, conv_b1, conv_w2, conv_b2, fc_w, fc_b])\n",
    "    print(scores.size())  # you should see [64, 10]\n",
    "three_layer_convnet_test()"
   ]
  },
  {
   "cell_type": "markdown",
   "id": "ed8b5f83",
   "metadata": {},
   "source": [
    "### Barebones PyTorch: Initialization\n",
    "Let's write a couple utility methods to initialize the weight matrices for our models.\n",
    "\n",
    "- `random_weight(shape)` initializes a weight tensor with the Kaiming normalization method.\n",
    "- `zero_weight(shape)` initializes a weight tensor with all zeros. Useful for instantiating bias parameters.\n",
    "\n",
    "The `random_weight` function uses the Kaiming normal initialization method, described in:\n",
    "\n",
    "He et al, *Delving Deep into Rectifiers: Surpassing Human-Level Performance on ImageNet Classification*, ICCV 2015, https://arxiv.org/abs/1502.01852"
   ]
  },
  {
   "cell_type": "code",
   "execution_count": 17,
   "id": "03afd48a",
   "metadata": {
    "tags": [
     "pdf-ignore-input"
    ]
   },
   "outputs": [
    {
     "data": {
      "text/plain": [
       "tensor([[ 0.9177, -0.3923,  0.4468,  0.2740,  0.5163],\n",
       "        [-0.7427,  0.9078,  0.9594,  0.0362,  0.2878],\n",
       "        [-0.0268,  0.8965,  0.4008, -0.1048, -0.3409]], device='cuda:0',\n",
       "       requires_grad=True)"
      ]
     },
     "execution_count": 17,
     "metadata": {},
     "output_type": "execute_result"
    }
   ],
   "source": [
    "def random_weight(shape):\n",
    "    \"\"\"\n",
    "    Create random Tensors for weights; setting requires_grad=True means that we\n",
    "    want to compute gradients for these Tensors during the backward pass.\n",
    "    We use Kaiming normalization: sqrt(2 / fan_in)\n",
    "    \"\"\"\n",
    "    if len(shape) == 2:  # FC weight\n",
    "        fan_in = shape[0]\n",
    "    else:\n",
    "        fan_in = np.prod(shape[1:]) # conv weight [out_channel, in_channel, kH, kW]\n",
    "    # randn is standard normal distribution generator. \n",
    "    w = torch.randn(shape, device=device, dtype=dtype) * np.sqrt(2. / fan_in)\n",
    "    w.requires_grad = True\n",
    "    return w\n",
    "\n",
    "def zero_weight(shape):\n",
    "    return torch.zeros(shape, device=device, dtype=dtype, requires_grad=True)\n",
    "\n",
    "# create a weight of shape [3 x 5]\n",
    "# you should see the type `torch.cuda.FloatTensor` if you use GPU. \n",
    "# Otherwise it should be `torch.FloatTensor`\n",
    "random_weight((3, 5))"
   ]
  },
  {
   "cell_type": "markdown",
   "id": "1ccd6c49",
   "metadata": {},
   "source": [
    "### Barebones PyTorch: Check Accuracy\n",
    "When training the model we will use the following function to check the accuracy of our model on the training or validation sets.\n",
    "\n",
    "When checking accuracy we don't need to compute any gradients; as a result we don't need PyTorch to build a computational graph for us when we compute scores. To prevent a graph from being built we scope our computation under a `torch.no_grad()` context manager."
   ]
  },
  {
   "cell_type": "code",
   "execution_count": 18,
   "id": "2bf8db63",
   "metadata": {
    "tags": [
     "pdf-ignore-input"
    ]
   },
   "outputs": [],
   "source": [
    "def check_accuracy_part2(loader, model_fn, params):\n",
    "    \"\"\"\n",
    "    Check the accuracy of a classification model.\n",
    "    \n",
    "    Inputs:\n",
    "    - loader: A DataLoader for the data split we want to check\n",
    "    - model_fn: A function that performs the forward pass of the model,\n",
    "      with the signature scores = model_fn(x, params)\n",
    "    - params: List of PyTorch Tensors giving parameters of the model\n",
    "    \n",
    "    Returns: Nothing, but prints the accuracy of the model\n",
    "    \"\"\"\n",
    "    split = 'val' if loader.dataset.train else 'test'\n",
    "    print('Checking accuracy on the %s set' % split)\n",
    "    num_correct, num_samples = 0, 0\n",
    "    with torch.no_grad():\n",
    "        for x, y in loader:\n",
    "            x = x.to(device=device, dtype=dtype)  # move to device, e.g. GPU\n",
    "            y = y.to(device=device, dtype=torch.int64)\n",
    "            scores = model_fn(x, params)\n",
    "            _, preds = scores.max(1)\n",
    "            num_correct += (preds == y).sum()\n",
    "            num_samples += preds.size(0)\n",
    "        acc = float(num_correct) / num_samples\n",
    "        print('Got %d / %d correct (%.2f%%)' % (num_correct, num_samples, 100 * acc))"
   ]
  },
  {
   "cell_type": "markdown",
   "id": "32b1bd28",
   "metadata": {},
   "source": [
    "### BareBones PyTorch: Training Loop\n",
    "We can now set up a basic training loop to train our network. We will train the model using stochastic gradient descent without momentum. We will use `torch.functional.cross_entropy` to compute the loss; you can [read about it here](http://pytorch.org/docs/stable/nn.html#cross-entropy).\n",
    "\n",
    "The training loop takes as input the neural network function, a list of initialized parameters (`[w1, w2]` in our example), and learning rate."
   ]
  },
  {
   "cell_type": "code",
   "execution_count": 25,
   "id": "a04a1ab8",
   "metadata": {
    "tags": [
     "pdf-ignore-input"
    ]
   },
   "outputs": [],
   "source": [
    "def train_part2(model_fn, params, learning_rate):\n",
    "    \"\"\"\n",
    "    Train a model on CIFAR-10.\n",
    "    \n",
    "    Inputs:\n",
    "    - model_fn: A Python function that performs the forward pass of the model.\n",
    "      It should have the signature scores = model_fn(x, params) where x is a\n",
    "      PyTorch Tensor of image data, params is a list of PyTorch Tensors giving\n",
    "      model weights, and scores is a PyTorch Tensor of shape (N, C) giving\n",
    "      scores for the elements in x.\n",
    "    - params: List of PyTorch Tensors giving weights for the model\n",
    "    - learning_rate: Python scalar giving the learning rate to use for SGD\n",
    "    \n",
    "    Returns: Nothing\n",
    "    \"\"\"\n",
    "    for t, (x, y) in enumerate(loader_train):\n",
    "        # Move the data to the proper device (GPU or CPU)\n",
    "        x = x.to(device=device, dtype=dtype)\n",
    "        y = y.to(device=device, dtype=torch.long)\n",
    "\n",
    "        # Forward pass: compute scores and loss\n",
    "        scores = model_fn(x, params)\n",
    "        loss = F.cross_entropy(scores, y)\n",
    "\n",
    "        # Backward pass: PyTorch figures out which Tensors in the computational\n",
    "        # graph has requires_grad=True and uses backpropagation to compute the\n",
    "        # gradient of the loss with respect to these Tensors, and stores the\n",
    "        # gradients in the .grad attribute of each Tensor.\n",
    "        loss.backward()\n",
    "\n",
    "        # Update parameters. We don't want to backpropagate through the\n",
    "        # parameter updates, so we scope the updates under a torch.no_grad()\n",
    "        # context manager to prevent a computational graph from being built.\n",
    "        with torch.no_grad():\n",
    "            for w in params:\n",
    "                w -= learning_rate * w.grad\n",
    "\n",
    "                # Manually zero the gradients after running the backward pass\n",
    "                w.grad.zero_()\n",
    "\n",
    "        if t % print_every == 0:\n",
    "            print('Iteration %d, loss = %.4f' % (t, loss.item()))\n",
    "            check_accuracy_part2(loader_val, model_fn, params)\n",
    "            print()"
   ]
  },
  {
   "cell_type": "markdown",
   "id": "1e7569ee",
   "metadata": {},
   "source": [
    "### BareBones PyTorch: Train a Two-Layer Network\n",
    "Now we are ready to run the training loop. We need to explicitly allocate tensors for the fully connected weights, `w1` and `w2`. \n",
    "\n",
    "Each minibatch of CIFAR has 64 examples, so the tensor shape is `[64, 3, 32, 32]`. \n",
    "\n",
    "After flattening, `x` shape should be `[64, 3 * 32 * 32]`. This will be the size of the first dimension of `w1`. \n",
    "The second dimension of `w1` is the hidden layer size, which will also be the first dimension of `w2`. \n",
    "\n",
    "Finally, the output of the network is a 10-dimensional vector that represents the probability distribution over 10 classes. \n",
    "\n",
    "You don't need to tune any hyperparameters but you should see accuracies above 40% after training for one epoch."
   ]
  },
  {
   "cell_type": "code",
   "execution_count": 20,
   "id": "d5c4fbb8",
   "metadata": {},
   "outputs": [
    {
     "name": "stdout",
     "output_type": "stream",
     "text": [
      "Iteration 0, loss = 3.4293\n",
      "Checking accuracy on the val set\n",
      "Got 137 / 1000 correct (13.70%)\n",
      "\n",
      "Iteration 100, loss = 2.5467\n",
      "Checking accuracy on the val set\n",
      "Got 338 / 1000 correct (33.80%)\n",
      "\n",
      "Iteration 200, loss = 1.9229\n",
      "Checking accuracy on the val set\n",
      "Got 343 / 1000 correct (34.30%)\n",
      "\n",
      "Iteration 300, loss = 1.8657\n",
      "Checking accuracy on the val set\n",
      "Got 415 / 1000 correct (41.50%)\n",
      "\n",
      "Iteration 400, loss = 1.7422\n",
      "Checking accuracy on the val set\n",
      "Got 375 / 1000 correct (37.50%)\n",
      "\n",
      "Iteration 500, loss = 1.6255\n",
      "Checking accuracy on the val set\n",
      "Got 429 / 1000 correct (42.90%)\n",
      "\n",
      "Iteration 600, loss = 1.5791\n",
      "Checking accuracy on the val set\n",
      "Got 444 / 1000 correct (44.40%)\n",
      "\n",
      "Iteration 700, loss = 1.5886\n",
      "Checking accuracy on the val set\n",
      "Got 467 / 1000 correct (46.70%)\n",
      "\n"
     ]
    }
   ],
   "source": [
    "hidden_layer_size = 4000\n",
    "learning_rate = 1e-2\n",
    "\n",
    "w1 = random_weight((3 * 32 * 32, hidden_layer_size))\n",
    "w2 = random_weight((hidden_layer_size, 10))\n",
    "\n",
    "train_part2(two_layer_fc, [w1, w2], learning_rate)"
   ]
  },
  {
   "cell_type": "markdown",
   "id": "050a4960",
   "metadata": {},
   "source": [
    "### BareBones PyTorch: Training a ConvNet\n",
    "\n",
    "In the below you should use the functions defined above to train a three-layer convolutional network on CIFAR. The network should have the following architecture:\n",
    "\n",
    "1. Convolutional layer (with bias) with 32 5x5 filters, with zero-padding of 2\n",
    "2. ReLU\n",
    "3. Convolutional layer (with bias) with 16 3x3 filters, with zero-padding of 1\n",
    "4. ReLU\n",
    "5. Fully-connected layer (with bias) to compute scores for 10 classes\n",
    "\n",
    "You should initialize your weight matrices using the `random_weight` function defined above, and you should initialize your bias vectors using the `zero_weight` function above.\n",
    "\n",
    "You don't need to tune any hyperparameters, but if everything works correctly you should achieve an accuracy above 42% after one epoch."
   ]
  },
  {
   "cell_type": "code",
   "execution_count": 27,
   "id": "7fdf67a3",
   "metadata": {
    "test": "barebones_accuracy"
   },
   "outputs": [
    {
     "name": "stdout",
     "output_type": "stream",
     "text": [
      "Iteration 0, loss = 3.2543\n",
      "Checking accuracy on the val set\n",
      "Got 118 / 1000 correct (11.80%)\n",
      "\n",
      "Iteration 100, loss = 2.1600\n",
      "Checking accuracy on the val set\n",
      "Got 331 / 1000 correct (33.10%)\n",
      "\n",
      "Iteration 200, loss = 1.7486\n",
      "Checking accuracy on the val set\n",
      "Got 416 / 1000 correct (41.60%)\n",
      "\n",
      "Iteration 300, loss = 1.4955\n",
      "Checking accuracy on the val set\n",
      "Got 418 / 1000 correct (41.80%)\n",
      "\n",
      "Iteration 400, loss = 1.5405\n",
      "Checking accuracy on the val set\n",
      "Got 441 / 1000 correct (44.10%)\n",
      "\n",
      "Iteration 500, loss = 1.6475\n",
      "Checking accuracy on the val set\n",
      "Got 466 / 1000 correct (46.60%)\n",
      "\n",
      "Iteration 600, loss = 1.6538\n",
      "Checking accuracy on the val set\n",
      "Got 478 / 1000 correct (47.80%)\n",
      "\n",
      "Iteration 700, loss = 1.7330\n",
      "Checking accuracy on the val set\n",
      "Got 473 / 1000 correct (47.30%)\n",
      "\n"
     ]
    }
   ],
   "source": [
    "learning_rate = 3e-3\n",
    "\n",
    "channel_1 = 32\n",
    "channel_2 = 16\n",
    "\n",
    "conv_w1 = None\n",
    "conv_b1 = None\n",
    "conv_w2 = None\n",
    "conv_b2 = None\n",
    "fc_w = None\n",
    "fc_b = None\n",
    "\n",
    "################################################################################\n",
    "# TODO: Initialize the parameters of a three-layer ConvNet.                    #\n",
    "################################################################################\n",
    "# *****START OF YOUR CODE (DO NOT DELETE/MODIFY THIS LINE)*****\n",
    "\n",
    "conv_w1 = random_weight((32, 3, 5, 5))\n",
    "conv_b1 = zero_weight(32)\n",
    "conv_w2 = random_weight((16, 32, 3, 3))\n",
    "conv_b2 = zero_weight(16)\n",
    "fc_w = random_weight((16384 , 10))\n",
    "fc_b = zero_weight(10)\n",
    "\n",
    "# *****END OF YOUR CODE (DO NOT DELETE/MODIFY THIS LINE)*****\n",
    "################################################################################\n",
    "#                                 END OF YOUR CODE                             #\n",
    "################################################################################\n",
    "\n",
    "params = [conv_w1, conv_b1, conv_w2, conv_b2, fc_w, fc_b]\n",
    "train_part2(three_layer_convnet, params, learning_rate)"
   ]
  },
  {
   "cell_type": "markdown",
   "id": "b50a4736",
   "metadata": {},
   "source": [
    "# Part III. PyTorch Module API\n",
    "\n",
    "Barebone PyTorch requires that we track all the parameter tensors by hand. This is fine for small networks with a few tensors, but it would be extremely inconvenient and error-prone to track tens or hundreds of tensors in larger networks.\n",
    "\n",
    "PyTorch provides the `nn.Module` API for you to define arbitrary network architectures, while tracking every learnable parameters for you. In Part II, we implemented SGD ourselves. PyTorch also provides the `torch.optim` package that implements all the common optimizers, such as RMSProp, Adagrad, and Adam. It even supports approximate second-order methods like L-BFGS! You can refer to the [doc](http://pytorch.org/docs/master/optim.html) for the exact specifications of each optimizer.\n",
    "\n",
    "To use the Module API, follow the steps below:\n",
    "\n",
    "1. Subclass `nn.Module`. Give your network class an intuitive name like `TwoLayerFC`. \n",
    "\n",
    "2. In the constructor `__init__()`, define all the layers you need as class attributes. Layer objects like `nn.Linear` and `nn.Conv2d` are themselves `nn.Module` subclasses and contain learnable parameters, so that you don't have to instantiate the raw tensors yourself. `nn.Module` will track these internal parameters for you. Refer to the [doc](http://pytorch.org/docs/master/nn.html) to learn more about the dozens of builtin layers. **Warning**: don't forget to call the `super().__init__()` first!\n",
    "\n",
    "3. In the `forward()` method, define the *connectivity* of your network. You should use the attributes defined in `__init__` as function calls that take tensor as input and output the \"transformed\" tensor. Do *not* create any new layers with learnable parameters in `forward()`! All of them must be declared upfront in `__init__`. \n",
    "\n",
    "After you define your Module subclass, you can instantiate it as an object and call it just like the NN forward function in part II.\n",
    "\n",
    "### Module API: Two-Layer Network\n",
    "Here is a concrete example of a 2-layer fully connected network:"
   ]
  },
  {
   "cell_type": "code",
   "execution_count": 28,
   "id": "58a20af0",
   "metadata": {},
   "outputs": [
    {
     "name": "stdout",
     "output_type": "stream",
     "text": [
      "torch.Size([64, 10])\n"
     ]
    }
   ],
   "source": [
    "class TwoLayerFC(nn.Module):\n",
    "    def __init__(self, input_size, hidden_size, num_classes):\n",
    "        super().__init__()\n",
    "        # assign layer objects to class attributes\n",
    "        self.fc1 = nn.Linear(input_size, hidden_size)\n",
    "        # nn.init package contains convenient initialization methods\n",
    "        # http://pytorch.org/docs/master/nn.html#torch-nn-init \n",
    "        nn.init.kaiming_normal_(self.fc1.weight)\n",
    "        self.fc2 = nn.Linear(hidden_size, num_classes)\n",
    "        nn.init.kaiming_normal_(self.fc2.weight)\n",
    "    \n",
    "    def forward(self, x):\n",
    "        # forward always defines connectivity\n",
    "        x = flatten(x)\n",
    "        scores = self.fc2(F.relu(self.fc1(x)))\n",
    "        return scores\n",
    "\n",
    "def test_TwoLayerFC():\n",
    "    input_size = 50\n",
    "    x = torch.zeros((64, input_size), dtype=dtype)  # minibatch size 64, feature dimension 50\n",
    "    model = TwoLayerFC(input_size, 42, 10)\n",
    "    scores = model(x)\n",
    "    print(scores.size())  # you should see [64, 10]\n",
    "test_TwoLayerFC()"
   ]
  },
  {
   "cell_type": "markdown",
   "id": "6add7497",
   "metadata": {},
   "source": [
    "### Module API: Three-Layer ConvNet\n",
    "It's your turn to implement a 3-layer ConvNet followed by a fully connected layer. The network architecture should be the same as in Part II:\n",
    "\n",
    "1. Convolutional layer with `channel_1` 5x5 filters with zero-padding of 2\n",
    "2. ReLU\n",
    "3. Convolutional layer with `channel_2` 3x3 filters with zero-padding of 1\n",
    "4. ReLU\n",
    "5. Fully-connected layer to `num_classes` classes\n",
    "\n",
    "You should initialize the weight matrices of the model using the Kaiming normal initialization method.\n",
    "\n",
    "**HINT**: http://pytorch.org/docs/stable/nn.html#conv2d\n",
    "\n",
    "After you implement the three-layer ConvNet, the `test_ThreeLayerConvNet` function will run your implementation; it should print `(64, 10)` for the shape of the output scores."
   ]
  },
  {
   "cell_type": "code",
   "execution_count": 32,
   "id": "615f1ab0",
   "metadata": {
    "test": "module_output_shape"
   },
   "outputs": [
    {
     "name": "stdout",
     "output_type": "stream",
     "text": [
      "torch.Size([64, 10])\n"
     ]
    }
   ],
   "source": [
    "class ThreeLayerConvNet(nn.Module):\n",
    "    def __init__(self, in_channel, channel_1, channel_2, num_classes):\n",
    "        super().__init__()\n",
    "        ########################################################################\n",
    "        # TODO: Set up the layers you need for a three-layer ConvNet with the  #\n",
    "        # architecture defined above.                                          #\n",
    "        ########################################################################\n",
    "        # *****START OF YOUR CODE (DO NOT DELETE/MODIFY THIS LINE)*****\n",
    "\n",
    "        self.conv1 = nn.Conv2d(in_channel, channel_1, (5, 5), padding=2)\n",
    "        self.conv2 = nn.Conv2d(channel_1, channel_2, (3, 3), padding=1)\n",
    "        self.fc = nn.Linear(channel_2 * 32 * 32, num_classes)\n",
    "\n",
    "        nn.init.kaiming_normal_(self.conv1.weight)\n",
    "        nn.init.kaiming_normal_(self.conv2.weight)\n",
    "        nn.init.kaiming_normal_(self.fc.weight)\n",
    "\n",
    "        # *****END OF YOUR CODE (DO NOT DELETE/MODIFY THIS LINE)*****\n",
    "        ########################################################################\n",
    "        #                          END OF YOUR CODE                            #       \n",
    "        ########################################################################\n",
    "\n",
    "    def forward(self, x):\n",
    "        scores = None\n",
    "        ########################################################################\n",
    "        # TODO: Implement the forward function for a 3-layer ConvNet. you      #\n",
    "        # should use the layers you defined in __init__ and specify the        #\n",
    "        # connectivity of those layers in forward()                            #\n",
    "        ########################################################################\n",
    "        # *****START OF YOUR CODE (DO NOT DELETE/MODIFY THIS LINE)*****\n",
    "\n",
    "        x = F.relu(self.conv1(x))\n",
    "        x = F.relu(self.conv2(x))\n",
    "        x = flatten(x)\n",
    "        scores = self.fc(x)\n",
    "\n",
    "        # *****END OF YOUR CODE (DO NOT DELETE/MODIFY THIS LINE)*****\n",
    "        ########################################################################\n",
    "        #                             END OF YOUR CODE                         #\n",
    "        ########################################################################\n",
    "        return scores\n",
    "\n",
    "\n",
    "def test_ThreeLayerConvNet():\n",
    "    x = torch.zeros((64, 3, 32, 32), dtype=dtype)  # minibatch size 64, image size [3, 32, 32]\n",
    "    model = ThreeLayerConvNet(in_channel=3, channel_1=12, channel_2=8, num_classes=10)\n",
    "    scores = model(x)\n",
    "    print(scores.size())  # you should see [64, 10]\n",
    "test_ThreeLayerConvNet()"
   ]
  },
  {
   "cell_type": "markdown",
   "id": "9ae86894",
   "metadata": {},
   "source": [
    "### Module API: Check Accuracy\n",
    "Given the validation or test set, we can check the classification accuracy of a neural network. \n",
    "\n",
    "This version is slightly different from the one in part II. You don't manually pass in the parameters anymore."
   ]
  },
  {
   "cell_type": "code",
   "execution_count": 33,
   "id": "30ed8d55",
   "metadata": {},
   "outputs": [],
   "source": [
    "def check_accuracy_part34(loader, model):\n",
    "    if loader.dataset.train:\n",
    "        print('Checking accuracy on validation set')\n",
    "    else:\n",
    "        print('Checking accuracy on test set')   \n",
    "    num_correct = 0\n",
    "    num_samples = 0\n",
    "    model.eval()  # set model to evaluation mode\n",
    "    with torch.no_grad():\n",
    "        for x, y in loader:\n",
    "            x = x.to(device=device, dtype=dtype)  # move to device, e.g. GPU\n",
    "            y = y.to(device=device, dtype=torch.long)\n",
    "            scores = model(x)\n",
    "            _, preds = scores.max(1)\n",
    "            num_correct += (preds == y).sum()\n",
    "            num_samples += preds.size(0)\n",
    "        acc = float(num_correct) / num_samples\n",
    "        print('Got %d / %d correct (%.2f)' % (num_correct, num_samples, 100 * acc))"
   ]
  },
  {
   "cell_type": "markdown",
   "id": "f6d222a3",
   "metadata": {},
   "source": [
    "### Module API: Training Loop\n",
    "We also use a slightly different training loop. Rather than updating the values of the weights ourselves, we use an Optimizer object from the `torch.optim` package, which abstract the notion of an optimization algorithm and provides implementations of most of the algorithms commonly used to optimize neural networks."
   ]
  },
  {
   "cell_type": "code",
   "execution_count": 34,
   "id": "4d050159",
   "metadata": {},
   "outputs": [],
   "source": [
    "def train_part34(model, optimizer, epochs=1):\n",
    "    \"\"\"\n",
    "    Train a model on CIFAR-10 using the PyTorch Module API.\n",
    "    \n",
    "    Inputs:\n",
    "    - model: A PyTorch Module giving the model to train.\n",
    "    - optimizer: An Optimizer object we will use to train the model\n",
    "    - epochs: (Optional) A Python integer giving the number of epochs to train for\n",
    "    \n",
    "    Returns: Nothing, but prints model accuracies during training.\n",
    "    \"\"\"\n",
    "    model = model.to(device=device)  # move the model parameters to CPU/GPU\n",
    "    for e in range(epochs):\n",
    "        for t, (x, y) in enumerate(loader_train):\n",
    "            model.train()  # put model to training mode\n",
    "            x = x.to(device=device, dtype=dtype)  # move to device, e.g. GPU\n",
    "            y = y.to(device=device, dtype=torch.long)\n",
    "\n",
    "            scores = model(x)\n",
    "            loss = F.cross_entropy(scores, y)\n",
    "\n",
    "            # Zero out all of the gradients for the variables which the optimizer\n",
    "            # will update.\n",
    "            optimizer.zero_grad()\n",
    "\n",
    "            # This is the backwards pass: compute the gradient of the loss with\n",
    "            # respect to each  parameter of the model.\n",
    "            loss.backward()\n",
    "\n",
    "            # Actually update the parameters of the model using the gradients\n",
    "            # computed by the backwards pass.\n",
    "            optimizer.step()\n",
    "\n",
    "            if t % print_every == 0:\n",
    "                print('Iteration %d, loss = %.4f' % (t, loss.item()))\n",
    "                check_accuracy_part34(loader_val, model)\n",
    "                print()"
   ]
  },
  {
   "cell_type": "markdown",
   "id": "7b41a915",
   "metadata": {},
   "source": [
    "### Module API: Train a Two-Layer Network\n",
    "Now we are ready to run the training loop. In contrast to part II, we don't explicitly allocate parameter tensors anymore.\n",
    "\n",
    "Simply pass the input size, hidden layer size, and number of classes (i.e. output size) to the constructor of `TwoLayerFC`. \n",
    "\n",
    "You also need to define an optimizer that tracks all the learnable parameters inside `TwoLayerFC`.\n",
    "\n",
    "You don't need to tune any hyperparameters, but you should see model accuracies above 40% after training for one epoch."
   ]
  },
  {
   "cell_type": "code",
   "execution_count": 35,
   "id": "9f8972dc",
   "metadata": {},
   "outputs": [
    {
     "name": "stdout",
     "output_type": "stream",
     "text": [
      "Iteration 0, loss = 3.2275\n",
      "Checking accuracy on validation set\n",
      "Got 156 / 1000 correct (15.60)\n",
      "\n",
      "Iteration 100, loss = 1.9123\n",
      "Checking accuracy on validation set\n",
      "Got 341 / 1000 correct (34.10)\n",
      "\n",
      "Iteration 200, loss = 2.5003\n",
      "Checking accuracy on validation set\n",
      "Got 367 / 1000 correct (36.70)\n",
      "\n",
      "Iteration 300, loss = 2.0172\n",
      "Checking accuracy on validation set\n",
      "Got 383 / 1000 correct (38.30)\n",
      "\n",
      "Iteration 400, loss = 1.7594\n",
      "Checking accuracy on validation set\n",
      "Got 406 / 1000 correct (40.60)\n",
      "\n",
      "Iteration 500, loss = 1.7861\n",
      "Checking accuracy on validation set\n",
      "Got 455 / 1000 correct (45.50)\n",
      "\n",
      "Iteration 600, loss = 1.5004\n",
      "Checking accuracy on validation set\n",
      "Got 418 / 1000 correct (41.80)\n",
      "\n",
      "Iteration 700, loss = 1.9353\n",
      "Checking accuracy on validation set\n",
      "Got 449 / 1000 correct (44.90)\n",
      "\n"
     ]
    }
   ],
   "source": [
    "hidden_layer_size = 4000\n",
    "learning_rate = 1e-2\n",
    "model = TwoLayerFC(3 * 32 * 32, hidden_layer_size, 10)\n",
    "optimizer = optim.SGD(model.parameters(), lr=learning_rate)\n",
    "\n",
    "train_part34(model, optimizer)"
   ]
  },
  {
   "cell_type": "markdown",
   "id": "f5be72f2",
   "metadata": {},
   "source": [
    "### Module API: Train a Three-Layer ConvNet\n",
    "You should now use the Module API to train a three-layer ConvNet on CIFAR. This should look very similar to training the two-layer network! You don't need to tune any hyperparameters, but you should achieve above above 45% after training for one epoch.\n",
    "\n",
    "You should train the model using stochastic gradient descent without momentum."
   ]
  },
  {
   "cell_type": "code",
   "execution_count": 36,
   "id": "7b8ba6a9",
   "metadata": {
    "test": "module_accuracy"
   },
   "outputs": [
    {
     "name": "stdout",
     "output_type": "stream",
     "text": [
      "Iteration 0, loss = 3.0661\n",
      "Checking accuracy on validation set\n",
      "Got 126 / 1000 correct (12.60)\n",
      "\n",
      "Iteration 100, loss = 1.8318\n",
      "Checking accuracy on validation set\n",
      "Got 323 / 1000 correct (32.30)\n",
      "\n",
      "Iteration 200, loss = 1.4720\n",
      "Checking accuracy on validation set\n",
      "Got 393 / 1000 correct (39.30)\n",
      "\n",
      "Iteration 300, loss = 1.6230\n",
      "Checking accuracy on validation set\n",
      "Got 434 / 1000 correct (43.40)\n",
      "\n",
      "Iteration 400, loss = 1.7313\n",
      "Checking accuracy on validation set\n",
      "Got 446 / 1000 correct (44.60)\n",
      "\n",
      "Iteration 500, loss = 1.7364\n",
      "Checking accuracy on validation set\n",
      "Got 478 / 1000 correct (47.80)\n",
      "\n",
      "Iteration 600, loss = 1.4899\n",
      "Checking accuracy on validation set\n",
      "Got 474 / 1000 correct (47.40)\n",
      "\n",
      "Iteration 700, loss = 1.5824\n",
      "Checking accuracy on validation set\n",
      "Got 485 / 1000 correct (48.50)\n",
      "\n"
     ]
    }
   ],
   "source": [
    "learning_rate = 3e-3\n",
    "channel_1 = 32\n",
    "channel_2 = 16\n",
    "\n",
    "model = None\n",
    "optimizer = None\n",
    "################################################################################\n",
    "# TODO: Instantiate your ThreeLayerConvNet model and a corresponding optimizer #\n",
    "################################################################################\n",
    "# *****START OF YOUR CODE (DO NOT DELETE/MODIFY THIS LINE)*****\n",
    "\n",
    "model = ThreeLayerConvNet(3, channel_1, channel_2, 10)\n",
    "optimizer = optim.SGD(model.parameters(), lr=learning_rate)\n",
    "\n",
    "# *****END OF YOUR CODE (DO NOT DELETE/MODIFY THIS LINE)*****\n",
    "################################################################################\n",
    "#                                 END OF YOUR CODE                             #\n",
    "################################################################################\n",
    "\n",
    "train_part34(model, optimizer)"
   ]
  },
  {
   "cell_type": "markdown",
   "id": "20a647e0",
   "metadata": {},
   "source": [
    "# Part IV. PyTorch Sequential API\n",
    "\n",
    "Part III introduced the PyTorch Module API, which allows you to define arbitrary learnable layers and their connectivity. \n",
    "\n",
    "For simple models like a stack of feed forward layers, you still need to go through 3 steps: subclass `nn.Module`, assign layers to class attributes in `__init__`, and call each layer one by one in `forward()`. Is there a more convenient way? \n",
    "\n",
    "Fortunately, PyTorch provides a container Module called `nn.Sequential`, which merges the above steps into one. It is not as flexible as `nn.Module`, because you cannot specify more complex topology than a feed-forward stack, but it's good enough for many use cases.\n",
    "\n",
    "### Sequential API: Two-Layer Network\n",
    "Let's see how to rewrite our two-layer fully connected network example with `nn.Sequential`, and train it using the training loop defined above.\n",
    "\n",
    "Again, you don't need to tune any hyperparameters here, but you shoud achieve above 40% accuracy after one epoch of training."
   ]
  },
  {
   "cell_type": "code",
   "execution_count": 37,
   "id": "8afe8ae5",
   "metadata": {},
   "outputs": [
    {
     "name": "stdout",
     "output_type": "stream",
     "text": [
      "Iteration 0, loss = 2.3270\n",
      "Checking accuracy on validation set\n",
      "Got 187 / 1000 correct (18.70)\n",
      "\n",
      "Iteration 100, loss = 1.8239\n",
      "Checking accuracy on validation set\n",
      "Got 386 / 1000 correct (38.60)\n",
      "\n",
      "Iteration 200, loss = 1.7527\n",
      "Checking accuracy on validation set\n",
      "Got 401 / 1000 correct (40.10)\n",
      "\n",
      "Iteration 300, loss = 1.6127\n",
      "Checking accuracy on validation set\n",
      "Got 431 / 1000 correct (43.10)\n",
      "\n",
      "Iteration 400, loss = 1.8308\n",
      "Checking accuracy on validation set\n",
      "Got 443 / 1000 correct (44.30)\n",
      "\n",
      "Iteration 500, loss = 1.8125\n",
      "Checking accuracy on validation set\n",
      "Got 426 / 1000 correct (42.60)\n",
      "\n",
      "Iteration 600, loss = 1.5006\n",
      "Checking accuracy on validation set\n",
      "Got 459 / 1000 correct (45.90)\n",
      "\n",
      "Iteration 700, loss = 1.6134\n",
      "Checking accuracy on validation set\n",
      "Got 443 / 1000 correct (44.30)\n",
      "\n"
     ]
    }
   ],
   "source": [
    "# We need to wrap `flatten` function in a module in order to stack it\n",
    "# in nn.Sequential\n",
    "class Flatten(nn.Module):\n",
    "    def forward(self, x):\n",
    "        return flatten(x)\n",
    "\n",
    "hidden_layer_size = 4000\n",
    "learning_rate = 1e-2\n",
    "\n",
    "model = nn.Sequential(\n",
    "    Flatten(),\n",
    "    nn.Linear(3 * 32 * 32, hidden_layer_size),\n",
    "    nn.ReLU(),\n",
    "    nn.Linear(hidden_layer_size, 10),\n",
    ")\n",
    "\n",
    "# you can use Nesterov momentum in optim.SGD\n",
    "optimizer = optim.SGD(model.parameters(), lr=learning_rate,\n",
    "                     momentum=0.9, nesterov=True)\n",
    "\n",
    "train_part34(model, optimizer)"
   ]
  },
  {
   "cell_type": "markdown",
   "id": "f9122f7c",
   "metadata": {},
   "source": [
    "### Sequential API: Three-Layer ConvNet\n",
    "Here you should use `nn.Sequential` to define and train a three-layer ConvNet with the same architecture we used in Part III:\n",
    "\n",
    "1. Convolutional layer (with bias) with 32 5x5 filters, with zero-padding of 2\n",
    "2. ReLU\n",
    "3. Convolutional layer (with bias) with 16 3x3 filters, with zero-padding of 1\n",
    "4. ReLU\n",
    "5. Fully-connected layer (with bias) to compute scores for 10 classes\n",
    "\n",
    "You can use the default PyTorch weight initialization.\n",
    "\n",
    "You should optimize your model using stochastic gradient descent with Nesterov momentum 0.9.\n",
    "\n",
    "Again, you don't need to tune any hyperparameters but you should see accuracy above 55% after one epoch of training."
   ]
  },
  {
   "cell_type": "code",
   "execution_count": 38,
   "id": "1925443c",
   "metadata": {
    "test": "sequential_accuracy"
   },
   "outputs": [
    {
     "name": "stdout",
     "output_type": "stream",
     "text": [
      "Iteration 0, loss = 2.3137\n",
      "Checking accuracy on validation set\n",
      "Got 131 / 1000 correct (13.10)\n",
      "\n",
      "Iteration 100, loss = 1.5017\n",
      "Checking accuracy on validation set\n",
      "Got 424 / 1000 correct (42.40)\n",
      "\n",
      "Iteration 200, loss = 1.5201\n",
      "Checking accuracy on validation set\n",
      "Got 471 / 1000 correct (47.10)\n",
      "\n",
      "Iteration 300, loss = 1.4272\n",
      "Checking accuracy on validation set\n",
      "Got 495 / 1000 correct (49.50)\n",
      "\n",
      "Iteration 400, loss = 1.4506\n",
      "Checking accuracy on validation set\n",
      "Got 531 / 1000 correct (53.10)\n",
      "\n",
      "Iteration 500, loss = 1.4066\n",
      "Checking accuracy on validation set\n",
      "Got 564 / 1000 correct (56.40)\n",
      "\n",
      "Iteration 600, loss = 1.3180\n",
      "Checking accuracy on validation set\n",
      "Got 562 / 1000 correct (56.20)\n",
      "\n",
      "Iteration 700, loss = 0.9063\n",
      "Checking accuracy on validation set\n",
      "Got 565 / 1000 correct (56.50)\n",
      "\n"
     ]
    }
   ],
   "source": [
    "channel_1 = 32\n",
    "channel_2 = 16\n",
    "learning_rate = 1e-2\n",
    "\n",
    "model = None\n",
    "optimizer = None\n",
    "\n",
    "################################################################################\n",
    "# TODO: Rewrite the 3-layer ConvNet with bias from Part III with the           #\n",
    "# Sequential API.                                                              #\n",
    "################################################################################\n",
    "# *****START OF YOUR CODE (DO NOT DELETE/MODIFY THIS LINE)*****\n",
    "\n",
    "model = nn.Sequential(\n",
    "    nn.Conv2d(3, channel_1, (5, 5), padding=2),\n",
    "    nn.ReLU(),\n",
    "    nn.Conv2d(channel_1, channel_2, (3, 3), padding=1),\n",
    "    nn.ReLU(),\n",
    "    Flatten(),\n",
    "    nn.Linear(channel_2 * 32 * 32, 10)\n",
    ")\n",
    "\n",
    "optimizer = optim.SGD(model.parameters(), lr=learning_rate, momentum=0.9, nesterov=True)\n",
    "\n",
    "# *****END OF YOUR CODE (DO NOT DELETE/MODIFY THIS LINE)*****\n",
    "################################################################################\n",
    "#                                 END OF YOUR CODE                             #\n",
    "################################################################################\n",
    "\n",
    "train_part34(model, optimizer)"
   ]
  },
  {
   "cell_type": "markdown",
   "id": "aee775e9",
   "metadata": {},
   "source": [
    "# Part V. CIFAR-10 open-ended challenge\n",
    "\n",
    "In this section, you can experiment with whatever ConvNet architecture you'd like on CIFAR-10. \n",
    "\n",
    "Now it's your job to experiment with architectures, hyperparameters, loss functions, and optimizers to train a model that achieves **at least 70%** accuracy on the CIFAR-10 **validation** set within 10 epochs. You can use the check_accuracy and train functions from above. You can use either `nn.Module` or `nn.Sequential` API. \n",
    "\n",
    "Describe what you did at the end of this notebook.\n",
    "\n",
    "Here are the official API documentation for each component. One note: what we call in the class \"spatial batch norm\" is called \"BatchNorm2D\" in PyTorch.\n",
    "\n",
    "* Layers in torch.nn package: http://pytorch.org/docs/stable/nn.html\n",
    "* Activations: http://pytorch.org/docs/stable/nn.html#non-linear-activations\n",
    "* Loss functions: http://pytorch.org/docs/stable/nn.html#loss-functions\n",
    "* Optimizers: http://pytorch.org/docs/stable/optim.html\n",
    "\n",
    "\n",
    "### Things you might try:\n",
    "- **Filter size**: Above we used 5x5; would smaller filters be more efficient?\n",
    "- **Number of filters**: Above we used 32 filters. Do more or fewer do better?\n",
    "- **Pooling vs Strided Convolution**: Do you use max pooling or just stride convolutions?\n",
    "- **Batch normalization**: Try adding spatial batch normalization after convolution layers and vanilla batch normalization after affine layers. Do your networks train faster?\n",
    "- **Network architecture**: The network above has two layers of trainable parameters. Can you do better with a deep network? Good architectures to try include:\n",
    "    - [conv-relu-pool]xN -> [affine]xM -> [softmax or SVM]\n",
    "    - [conv-relu-conv-relu-pool]xN -> [affine]xM -> [softmax or SVM]\n",
    "    - [batchnorm-relu-conv]xN -> [affine]xM -> [softmax or SVM]\n",
    "- **Global Average Pooling**: Instead of flattening and then having multiple affine layers, perform convolutions until your image gets small (7x7 or so) and then perform an average pooling operation to get to a 1x1 image picture (1, 1 , Filter#), which is then reshaped into a (Filter#) vector. This is used in [Google's Inception Network](https://arxiv.org/abs/1512.00567) (See Table 1 for their architecture).\n",
    "- **Regularization**: Add l2 weight regularization, or perhaps use Dropout.\n",
    "\n",
    "### Tips for training\n",
    "For each network architecture that you try, you should tune the learning rate and other hyperparameters. When doing this there are a couple important things to keep in mind:\n",
    "\n",
    "- If the parameters are working well, you should see improvement within a few hundred iterations\n",
    "- Remember the coarse-to-fine approach for hyperparameter tuning: start by testing a large range of hyperparameters for just a few training iterations to find the combinations of parameters that are working at all.\n",
    "- Once you have found some sets of parameters that seem to work, search more finely around these parameters. You may need to train for more epochs.\n",
    "- You should use the validation set for hyperparameter search, and save your test set for evaluating your architecture on the best parameters as selected by the validation set.\n",
    "\n",
    "### Going above and beyond\n",
    "If you are feeling adventurous there are many other features you can implement to try and improve your performance. You are **not required** to implement any of these, but don't miss the fun if you have time!\n",
    "\n",
    "- Alternative optimizers: you can try Adam, Adagrad, RMSprop, etc.\n",
    "- Alternative activation functions such as leaky ReLU, parametric ReLU, ELU, or MaxOut.\n",
    "- Model ensembles\n",
    "- Data augmentation\n",
    "- New Architectures\n",
    "  - [ResNets](https://arxiv.org/abs/1512.03385) where the input from the previous layer is added to the output.\n",
    "  - [DenseNets](https://arxiv.org/abs/1608.06993) where inputs into previous layers are concatenated together.\n",
    "  - [This blog has an in-depth overview](https://chatbotslife.com/resnets-highwaynets-and-densenets-oh-my-9bb15918ee32)\n",
    "\n",
    "### Have fun and happy training! "
   ]
  },
  {
   "cell_type": "code",
   "execution_count": 150,
   "id": "a83d44e1-3af1-4c28-8a73-43207cc9a6a3",
   "metadata": {},
   "outputs": [],
   "source": [
    "def flatten(x):\n",
    "    N = x.shape[0] # read in N, C, H, W\n",
    "    return x.view(N, -1)  # \"flatten\" the C * H * W values into a single vector per image\n",
    "\n",
    "class Flatten(nn.Module):\n",
    "    def forward(self, x):\n",
    "        return flatten(x)\n",
    "\n",
    "model_conv_relu_pool = nn.Sequential(\n",
    "    nn.Conv2d(3, 32, (3, 3), padding=1),\n",
    "    nn.ReLU(),\n",
    "    nn.MaxPool2d(2),\n",
    "    nn.Conv2d(32, 64, (3, 3), padding=1),\n",
    "    nn.ReLU(),\n",
    "    nn.MaxPool2d(2),\n",
    "    nn.Conv2d(64, 128, (3, 3), padding=1),\n",
    "    nn.ReLU(),\n",
    "    nn.MaxPool2d(2),\n",
    "    nn.Flatten(),\n",
    "    nn.Linear(128*4*4, 512),\n",
    "    nn.ReLU(),\n",
    "    nn.Linear(512, 10)\n",
    ")\n",
    "\n",
    "def double_conv_relu(in_channel, out_channel):\n",
    "    return nn.Sequential(\n",
    "        nn.Conv2d(in_channel, out_channel, (3, 3), padding=1),\n",
    "        nn.ReLU(),\n",
    "        nn.Conv2d(out_channel, out_channel, (3, 3), padding=1),\n",
    "        nn.ReLU()\n",
    "    )\n",
    "\n",
    "model_double_conv_relu_pool = nn.Sequential(\n",
    "    double_conv_relu(3, 32),\n",
    "    nn.MaxPool2d(2),\n",
    "    double_conv_relu(32, 64),\n",
    "    nn.MaxPool2d(2),\n",
    "    double_conv_relu(64, 128),\n",
    "    nn.MaxPool2d(2),\n",
    "    nn.Flatten(),\n",
    "    nn.Linear(128*4*4, 512),\n",
    "    nn.ReLU(),\n",
    "    nn.Linear(512, 10)\n",
    ")\n",
    "\n",
    "def double_conv_bn_relu(in_channel, out_channel):\n",
    "    return nn.Sequential(\n",
    "        nn.Conv2d(in_channel, out_channel, (3, 3), padding=1),\n",
    "        nn.BatchNorm2d(out_channel),\n",
    "        nn.ReLU(),\n",
    "        nn.Conv2d(out_channel, out_channel, (3, 3), padding=1),\n",
    "        nn.BatchNorm2d(out_channel),\n",
    "        nn.ReLU()\n",
    "    )\n",
    "\n",
    "model_double_conv_bn_relu_pool = nn.Sequential(\n",
    "    double_conv_bn_relu(3, 32),\n",
    "    nn.MaxPool2d(2),\n",
    "    double_conv_bn_relu(32, 64),\n",
    "    nn.MaxPool2d(2),\n",
    "    double_conv_bn_relu(64, 128),\n",
    "    nn.MaxPool2d(2),\n",
    "    nn.Flatten(),\n",
    "    nn.Linear(128*4*4, 512),\n",
    "    nn.BatchNorm1d(512),\n",
    "    nn.ReLU(),\n",
    "    nn.Linear(512, 10)\n",
    ")\n",
    "\n",
    "model_multi_conv_bn_relu_pool = nn.Sequential(\n",
    "    double_conv_bn_relu(3, 32),\n",
    "    double_conv_bn_relu(32, 32),\n",
    "    double_conv_bn_relu(32, 32),\n",
    "    nn.MaxPool2d(2),\n",
    "    double_conv_bn_relu(32, 64),\n",
    "    double_conv_bn_relu(64, 64),\n",
    "    double_conv_bn_relu(64, 64),\n",
    "    nn.MaxPool2d(2),\n",
    "    double_conv_bn_relu(64, 128),\n",
    "    double_conv_bn_relu(128, 128),\n",
    "    double_conv_bn_relu(128, 128),\n",
    "    nn.MaxPool2d(2),\n",
    "    nn.Flatten(),\n",
    "    nn.Linear(128*4*4, 512),\n",
    "    nn.BatchNorm1d(512),\n",
    "    nn.ReLU(),\n",
    "    nn.Linear(512, 10)\n",
    ")"
   ]
  },
  {
   "cell_type": "code",
   "execution_count": 151,
   "id": "303a5837-35b9-4f49-95aa-4ab5b0ead134",
   "metadata": {},
   "outputs": [],
   "source": [
    "import torch.nn.functional as F\n",
    "from tqdm import tqdm\n",
    "from copy import deepcopy\n",
    "\n",
    "def my_check_accuracy(loader, model):\n",
    "    num_correct = 0\n",
    "    num_samples = 0\n",
    "    model.eval()  # set model to evaluation mode\n",
    "    with torch.no_grad():\n",
    "        for x, y in loader:\n",
    "            x = x.to(device=device, dtype=dtype)  # move to device, e.g. GPU\n",
    "            y = y.to(device=device, dtype=torch.long)\n",
    "            scores = model(x)\n",
    "            _, preds = scores.max(1)\n",
    "            num_correct += (preds == y).sum()\n",
    "            num_samples += preds.size(0)\n",
    "\n",
    "    return float(num_correct) / num_samples\n",
    "\n",
    "def my_train(model, optimizer, epochs=1, save_loss_every=250):\n",
    "    loss_history = []\n",
    "    training_acc_history = []\n",
    "    best_model = None\n",
    "    best_val_acc = 0.0\n",
    "    \n",
    "    val_acc_history = []\n",
    "    model = model.to(device=device)  # move the model parameters to CPU/GPU\n",
    "    for e in range(epochs):\n",
    "        #data_bar = tqdm(loader_train, bar_format='{l_bar}{bar:10}{r_bar}{bar:-10b}')\n",
    "        #data_bar.set_description('Train Epoch: [{}/{}]'.format(e, epochs))\n",
    "        for t, (x, y) in enumerate(loader_train):\n",
    "            model.train()  # put model to training mode\n",
    "            x = x.to(device=device, dtype=dtype)  # move to device, e.g. GPU\n",
    "            y = y.to(device=device, dtype=torch.long)\n",
    "            \n",
    "            scores = model(x)\n",
    "            loss = F.cross_entropy(scores, y)\n",
    "            optimizer.zero_grad()\n",
    "            loss.backward()\n",
    "            optimizer.step()\n",
    "\n",
    "            if t % save_loss_every == 0:\n",
    "                loss_history.append(loss.item())\n",
    "\n",
    "        training_acc = my_check_accuracy(loader_train, model)\n",
    "        training_acc_history.append(training_acc)\n",
    "        val_acc = my_check_accuracy(loader_val, model)\n",
    "        val_acc_history.append(val_acc)\n",
    "\n",
    "        if val_acc > best_val_acc:\n",
    "            best_model = deepcopy(model)\n",
    "            best_val_acc = val_acc\n",
    "        \n",
    "        print('Train Epoch: [{}/{}] | Train Accuracy: {:.4f} | Validation Accuracy: {:.4f}'.format(e, epochs, training_acc, val_acc))\n",
    "                \n",
    "    return (best_model, loss_history, training_acc_history, val_acc_history)"
   ]
  },
  {
   "cell_type": "code",
   "execution_count": 92,
   "id": "232a6c0a-c848-4d74-a9a8-b281e550f843",
   "metadata": {},
   "outputs": [
    {
     "name": "stdout",
     "output_type": "stream",
     "text": [
      "---\n",
      "Training  conv_relu_pool \n",
      "---\n"
     ]
    },
    {
     "name": "stderr",
     "output_type": "stream",
     "text": [
      "Train Epoch: [0/10]: 100%|██████████| 766/766 [00:12<00:00, 62.58it/s]                                                                                                            \n"
     ]
    },
    {
     "name": "stdout",
     "output_type": "stream",
     "text": [
      "Train Accuracy: 0.6107 | Validation Accuracy: 0.6160\n"
     ]
    },
    {
     "name": "stderr",
     "output_type": "stream",
     "text": [
      "Train Epoch: [1/10]: 100%|██████████| 766/766 [00:11<00:00, 64.40it/s]                                                                                                            \n"
     ]
    },
    {
     "name": "stdout",
     "output_type": "stream",
     "text": [
      "Train Accuracy: 0.7360 | Validation Accuracy: 0.6960\n"
     ]
    },
    {
     "name": "stderr",
     "output_type": "stream",
     "text": [
      "Train Epoch: [2/10]: 100%|██████████| 766/766 [00:12<00:00, 63.30it/s]                                                                                                            \n"
     ]
    },
    {
     "name": "stdout",
     "output_type": "stream",
     "text": [
      "Train Accuracy: 0.8012 | Validation Accuracy: 0.7510\n"
     ]
    },
    {
     "name": "stderr",
     "output_type": "stream",
     "text": [
      "Train Epoch: [3/10]: 100%|██████████| 766/766 [00:12<00:00, 58.95it/s]                                                                                                            \n"
     ]
    },
    {
     "name": "stdout",
     "output_type": "stream",
     "text": [
      "Train Accuracy: 0.8357 | Validation Accuracy: 0.7520\n"
     ]
    },
    {
     "name": "stderr",
     "output_type": "stream",
     "text": [
      "Train Epoch: [4/10]: 100%|██████████| 766/766 [00:12<00:00, 61.84it/s]                                                                                                            \n"
     ]
    },
    {
     "name": "stdout",
     "output_type": "stream",
     "text": [
      "Train Accuracy: 0.8777 | Validation Accuracy: 0.7540\n"
     ]
    },
    {
     "name": "stderr",
     "output_type": "stream",
     "text": [
      "Train Epoch: [5/10]: 100%|██████████| 766/766 [00:12<00:00, 61.05it/s]                                                                                                            \n"
     ]
    },
    {
     "name": "stdout",
     "output_type": "stream",
     "text": [
      "Train Accuracy: 0.9220 | Validation Accuracy: 0.7640\n"
     ]
    },
    {
     "name": "stderr",
     "output_type": "stream",
     "text": [
      "Train Epoch: [6/10]: 100%|██████████| 766/766 [00:11<00:00, 64.11it/s]                                                                                                            \n"
     ]
    },
    {
     "name": "stdout",
     "output_type": "stream",
     "text": [
      "Train Accuracy: 0.9393 | Validation Accuracy: 0.7830\n"
     ]
    },
    {
     "name": "stderr",
     "output_type": "stream",
     "text": [
      "Train Epoch: [7/10]: 100%|██████████| 766/766 [00:12<00:00, 61.00it/s]                                                                                                            \n"
     ]
    },
    {
     "name": "stdout",
     "output_type": "stream",
     "text": [
      "Train Accuracy: 0.9497 | Validation Accuracy: 0.7670\n"
     ]
    },
    {
     "name": "stderr",
     "output_type": "stream",
     "text": [
      "Train Epoch: [8/10]: 100%|██████████| 766/766 [00:12<00:00, 62.58it/s]                                                                                                            \n"
     ]
    },
    {
     "name": "stdout",
     "output_type": "stream",
     "text": [
      "Train Accuracy: 0.9542 | Validation Accuracy: 0.7770\n"
     ]
    },
    {
     "name": "stderr",
     "output_type": "stream",
     "text": [
      "Train Epoch: [9/10]: 100%|██████████| 766/766 [00:12<00:00, 61.26it/s]                                                                                                            \n"
     ]
    },
    {
     "name": "stdout",
     "output_type": "stream",
     "text": [
      "Train Accuracy: 0.9709 | Validation Accuracy: 0.7730\n",
      "\n",
      "\n",
      "---\n",
      "Training  model_double_conv_relu_pool \n",
      "---\n"
     ]
    },
    {
     "name": "stderr",
     "output_type": "stream",
     "text": [
      "Train Epoch: [0/10]: 100%|██████████| 766/766 [00:12<00:00, 59.08it/s]                                                                                                            \n"
     ]
    },
    {
     "name": "stdout",
     "output_type": "stream",
     "text": [
      "Train Accuracy: 0.4414 | Validation Accuracy: 0.4580\n"
     ]
    },
    {
     "name": "stderr",
     "output_type": "stream",
     "text": [
      "Train Epoch: [1/10]: 100%|██████████| 766/766 [00:12<00:00, 61.78it/s]                                                                                                            \n"
     ]
    },
    {
     "name": "stdout",
     "output_type": "stream",
     "text": [
      "Train Accuracy: 0.6357 | Validation Accuracy: 0.6270\n"
     ]
    },
    {
     "name": "stderr",
     "output_type": "stream",
     "text": [
      "Train Epoch: [2/10]: 100%|██████████| 766/766 [00:12<00:00, 61.30it/s]                                                                                                            \n"
     ]
    },
    {
     "name": "stdout",
     "output_type": "stream",
     "text": [
      "Train Accuracy: 0.7340 | Validation Accuracy: 0.7210\n"
     ]
    },
    {
     "name": "stderr",
     "output_type": "stream",
     "text": [
      "Train Epoch: [3/10]: 100%|██████████| 766/766 [00:12<00:00, 61.10it/s]                                                                                                            \n"
     ]
    },
    {
     "name": "stdout",
     "output_type": "stream",
     "text": [
      "Train Accuracy: 0.7892 | Validation Accuracy: 0.7420\n"
     ]
    },
    {
     "name": "stderr",
     "output_type": "stream",
     "text": [
      "Train Epoch: [4/10]: 100%|██████████| 766/766 [00:12<00:00, 60.04it/s]                                                                                                            \n"
     ]
    },
    {
     "name": "stdout",
     "output_type": "stream",
     "text": [
      "Train Accuracy: 0.8362 | Validation Accuracy: 0.7860\n"
     ]
    },
    {
     "name": "stderr",
     "output_type": "stream",
     "text": [
      "Train Epoch: [5/10]: 100%|██████████| 766/766 [00:12<00:00, 61.56it/s]                                                                                                            \n"
     ]
    },
    {
     "name": "stdout",
     "output_type": "stream",
     "text": [
      "Train Accuracy: 0.8714 | Validation Accuracy: 0.7900\n"
     ]
    },
    {
     "name": "stderr",
     "output_type": "stream",
     "text": [
      "Train Epoch: [6/10]: 100%|██████████| 766/766 [00:12<00:00, 61.83it/s]                                                                                                            \n"
     ]
    },
    {
     "name": "stdout",
     "output_type": "stream",
     "text": [
      "Train Accuracy: 0.9040 | Validation Accuracy: 0.7940\n"
     ]
    },
    {
     "name": "stderr",
     "output_type": "stream",
     "text": [
      "Train Epoch: [7/10]: 100%|██████████| 766/766 [00:12<00:00, 61.13it/s]                                                                                                            \n"
     ]
    },
    {
     "name": "stdout",
     "output_type": "stream",
     "text": [
      "Train Accuracy: 0.9307 | Validation Accuracy: 0.7990\n"
     ]
    },
    {
     "name": "stderr",
     "output_type": "stream",
     "text": [
      "Train Epoch: [8/10]: 100%|██████████| 766/766 [00:12<00:00, 62.26it/s]                                                                                                            \n"
     ]
    },
    {
     "name": "stdout",
     "output_type": "stream",
     "text": [
      "Train Accuracy: 0.9461 | Validation Accuracy: 0.7950\n"
     ]
    },
    {
     "name": "stderr",
     "output_type": "stream",
     "text": [
      "Train Epoch: [9/10]: 100%|██████████| 766/766 [00:12<00:00, 61.54it/s]                                                                                                            \n"
     ]
    },
    {
     "name": "stdout",
     "output_type": "stream",
     "text": [
      "Train Accuracy: 0.9656 | Validation Accuracy: 0.8070\n",
      "\n",
      "\n",
      "---\n",
      "Training  model_double_conv_bn_relu_pool \n",
      "---\n"
     ]
    },
    {
     "name": "stderr",
     "output_type": "stream",
     "text": [
      "Train Epoch: [0/10]: 100%|██████████| 766/766 [00:13<00:00, 57.36it/s]                                                                                                            \n"
     ]
    },
    {
     "name": "stdout",
     "output_type": "stream",
     "text": [
      "Train Accuracy: 0.7458 | Validation Accuracy: 0.7090\n"
     ]
    },
    {
     "name": "stderr",
     "output_type": "stream",
     "text": [
      "Train Epoch: [1/10]: 100%|██████████| 766/766 [00:13<00:00, 56.88it/s]                                                                                                            \n"
     ]
    },
    {
     "name": "stdout",
     "output_type": "stream",
     "text": [
      "Train Accuracy: 0.7913 | Validation Accuracy: 0.7550\n"
     ]
    },
    {
     "name": "stderr",
     "output_type": "stream",
     "text": [
      "Train Epoch: [2/10]: 100%|██████████| 766/766 [00:13<00:00, 57.30it/s]                                                                                                            \n"
     ]
    },
    {
     "name": "stdout",
     "output_type": "stream",
     "text": [
      "Train Accuracy: 0.8587 | Validation Accuracy: 0.8000\n"
     ]
    },
    {
     "name": "stderr",
     "output_type": "stream",
     "text": [
      "Train Epoch: [3/10]: 100%|██████████| 766/766 [00:13<00:00, 57.31it/s]                                                                                                            \n"
     ]
    },
    {
     "name": "stdout",
     "output_type": "stream",
     "text": [
      "Train Accuracy: 0.9163 | Validation Accuracy: 0.8250\n"
     ]
    },
    {
     "name": "stderr",
     "output_type": "stream",
     "text": [
      "Train Epoch: [4/10]: 100%|██████████| 766/766 [00:13<00:00, 56.91it/s]                                                                                                            \n"
     ]
    },
    {
     "name": "stdout",
     "output_type": "stream",
     "text": [
      "Train Accuracy: 0.9406 | Validation Accuracy: 0.8240\n"
     ]
    },
    {
     "name": "stderr",
     "output_type": "stream",
     "text": [
      "Train Epoch: [5/10]: 100%|██████████| 766/766 [00:13<00:00, 57.38it/s]                                                                                                            \n"
     ]
    },
    {
     "name": "stdout",
     "output_type": "stream",
     "text": [
      "Train Accuracy: 0.9654 | Validation Accuracy: 0.8380\n"
     ]
    },
    {
     "name": "stderr",
     "output_type": "stream",
     "text": [
      "Train Epoch: [6/10]: 100%|██████████| 766/766 [00:13<00:00, 57.03it/s]                                                                                                            \n"
     ]
    },
    {
     "name": "stdout",
     "output_type": "stream",
     "text": [
      "Train Accuracy: 0.9777 | Validation Accuracy: 0.8310\n"
     ]
    },
    {
     "name": "stderr",
     "output_type": "stream",
     "text": [
      "Train Epoch: [7/10]: 100%|██████████| 766/766 [00:13<00:00, 57.55it/s]                                                                                                            \n"
     ]
    },
    {
     "name": "stdout",
     "output_type": "stream",
     "text": [
      "Train Accuracy: 0.9862 | Validation Accuracy: 0.8300\n"
     ]
    },
    {
     "name": "stderr",
     "output_type": "stream",
     "text": [
      "Train Epoch: [8/10]: 100%|██████████| 766/766 [00:13<00:00, 57.50it/s]                                                                                                            \n"
     ]
    },
    {
     "name": "stdout",
     "output_type": "stream",
     "text": [
      "Train Accuracy: 0.9923 | Validation Accuracy: 0.8480\n"
     ]
    },
    {
     "name": "stderr",
     "output_type": "stream",
     "text": [
      "Train Epoch: [9/10]: 100%|██████████| 766/766 [00:13<00:00, 56.43it/s]                                                                                                            \n"
     ]
    },
    {
     "name": "stdout",
     "output_type": "stream",
     "text": [
      "Train Accuracy: 0.9949 | Validation Accuracy: 0.8380\n",
      "\n",
      "\n",
      "---\n",
      "Training  model_multi_conv_bn_relu_pool \n",
      "---\n"
     ]
    },
    {
     "name": "stderr",
     "output_type": "stream",
     "text": [
      "Train Epoch: [0/10]: 100%|██████████| 766/766 [00:17<00:00, 43.40it/s]                                                                                                            \n"
     ]
    },
    {
     "name": "stdout",
     "output_type": "stream",
     "text": [
      "Train Accuracy: 0.5433 | Validation Accuracy: 0.5420\n"
     ]
    },
    {
     "name": "stderr",
     "output_type": "stream",
     "text": [
      "Train Epoch: [1/10]: 100%|██████████| 766/766 [00:17<00:00, 44.06it/s]                                                                                                            \n"
     ]
    },
    {
     "name": "stdout",
     "output_type": "stream",
     "text": [
      "Train Accuracy: 0.6968 | Validation Accuracy: 0.6690\n"
     ]
    },
    {
     "name": "stderr",
     "output_type": "stream",
     "text": [
      "Train Epoch: [2/10]: 100%|██████████| 766/766 [00:17<00:00, 44.28it/s]                                                                                                            \n"
     ]
    },
    {
     "name": "stdout",
     "output_type": "stream",
     "text": [
      "Train Accuracy: 0.7116 | Validation Accuracy: 0.6890\n"
     ]
    },
    {
     "name": "stderr",
     "output_type": "stream",
     "text": [
      "Train Epoch: [3/10]: 100%|██████████| 766/766 [00:17<00:00, 43.96it/s]                                                                                                            \n"
     ]
    },
    {
     "name": "stdout",
     "output_type": "stream",
     "text": [
      "Train Accuracy: 0.8130 | Validation Accuracy: 0.7870\n"
     ]
    },
    {
     "name": "stderr",
     "output_type": "stream",
     "text": [
      "Train Epoch: [4/10]: 100%|██████████| 766/766 [00:17<00:00, 43.04it/s]                                                                                                            \n"
     ]
    },
    {
     "name": "stdout",
     "output_type": "stream",
     "text": [
      "Train Accuracy: 0.8435 | Validation Accuracy: 0.7990\n"
     ]
    },
    {
     "name": "stderr",
     "output_type": "stream",
     "text": [
      "Train Epoch: [5/10]: 100%|██████████| 766/766 [00:17<00:00, 43.49it/s]                                                                                                            \n"
     ]
    },
    {
     "name": "stdout",
     "output_type": "stream",
     "text": [
      "Train Accuracy: 0.8759 | Validation Accuracy: 0.8180\n"
     ]
    },
    {
     "name": "stderr",
     "output_type": "stream",
     "text": [
      "Train Epoch: [6/10]: 100%|██████████| 766/766 [00:17<00:00, 43.69it/s]                                                                                                            \n"
     ]
    },
    {
     "name": "stdout",
     "output_type": "stream",
     "text": [
      "Train Accuracy: 0.8966 | Validation Accuracy: 0.8300\n"
     ]
    },
    {
     "name": "stderr",
     "output_type": "stream",
     "text": [
      "Train Epoch: [7/10]: 100%|██████████| 766/766 [00:18<00:00, 42.34it/s]                                                                                                            \n"
     ]
    },
    {
     "name": "stdout",
     "output_type": "stream",
     "text": [
      "Train Accuracy: 0.9129 | Validation Accuracy: 0.8300\n"
     ]
    },
    {
     "name": "stderr",
     "output_type": "stream",
     "text": [
      "Train Epoch: [8/10]: 100%|██████████| 766/766 [00:17<00:00, 43.99it/s]                                                                                                            \n"
     ]
    },
    {
     "name": "stdout",
     "output_type": "stream",
     "text": [
      "Train Accuracy: 0.9277 | Validation Accuracy: 0.8320\n"
     ]
    },
    {
     "name": "stderr",
     "output_type": "stream",
     "text": [
      "Train Epoch: [9/10]: 100%|██████████| 766/766 [00:17<00:00, 44.29it/s]                                                                                                            \n"
     ]
    },
    {
     "name": "stdout",
     "output_type": "stream",
     "text": [
      "Train Accuracy: 0.9327 | Validation Accuracy: 0.8270\n",
      "\n",
      "\n"
     ]
    }
   ],
   "source": [
    "learning_rate = 1e-2\n",
    "\n",
    "models = {}\n",
    "training_log = {}\n",
    "models['conv_relu_pool'] = model_conv_relu_pool\n",
    "models['model_double_conv_relu_pool'] = model_double_conv_relu_pool\n",
    "models['model_double_conv_bn_relu_pool'] = model_double_conv_bn_relu_pool\n",
    "models['model_multi_conv_bn_relu_pool'] = model_multi_conv_bn_relu_pool\n",
    "\n",
    "for name, model in models.items():\n",
    "    print('---\\nTraining ', name, '\\n---')\n",
    "    optimizer = optim.SGD(model.parameters(), lr=learning_rate, momentum=0.9, nesterov=True)\n",
    "    training_log[name] = my_train(model, optimizer, epochs=10)\n",
    "    print('\\n')"
   ]
  },
  {
   "cell_type": "code",
   "execution_count": 123,
   "id": "03eeba65-8b40-4ceb-8792-484758e9df75",
   "metadata": {},
   "outputs": [],
   "source": [
    "class ResidualBlock(nn.Module):\n",
    "    def __init__(self, in_channels, out_channels, downsample=False):\n",
    "        super(ResidualBlock, self).__init__()\n",
    "    \n",
    "        stride = 2 if downsample else 1    \n",
    "        \n",
    "        self.conv1 = nn.Conv2d(in_channels, out_channels, kernel_size=3, stride=stride, padding=1)\n",
    "        self.bn1 = nn.BatchNorm2d(out_channels)\n",
    "        self.conv2 = nn.Conv2d(out_channels, out_channels, kernel_size=3, padding=1)\n",
    "        self.bn2 = nn.BatchNorm2d(out_channels)\n",
    "        self.relu = nn.ReLU()\n",
    "\n",
    "        self.skip_connection = (\n",
    "            nn.Conv2d(in_channels, out_channels, stride=stride, kernel_size=1)\n",
    "            if in_channels != out_channels\n",
    "            else nn.Identity()\n",
    "        )\n",
    "\n",
    "    def forward(self, x):\n",
    "        skip = self.skip_connection(x)\n",
    "        x = self.conv1(x)\n",
    "        x = self.bn1(x)\n",
    "        x = self.relu(x)\n",
    "        x = self.conv2(x)\n",
    "        x = self.bn2(x)\n",
    "        x += skip\n",
    "        return self.relu(x)"
   ]
  },
  {
   "cell_type": "code",
   "execution_count": 147,
   "id": "bd9369c5-2b86-4fbd-bdc5-6b3d011b9a56",
   "metadata": {},
   "outputs": [],
   "source": [
    "model_my_resnet = nn.Sequential(\n",
    "    ResidualBlock(3, 32),\n",
    "    ResidualBlock(32, 32),\n",
    "    ResidualBlock(32, 32),\n",
    "    ResidualBlock(32, 64, downsample=True),\n",
    "    ResidualBlock(64, 64),\n",
    "    ResidualBlock(64, 64),\n",
    "    ResidualBlock(64, 128, downsample=True),\n",
    "    ResidualBlock(128, 128),\n",
    "    ResidualBlock(128, 128),\n",
    "    nn.MaxPool2d(2),\n",
    "    nn.Flatten(),\n",
    "    nn.Linear(128*4*4, 512),\n",
    "    nn.BatchNorm1d(512),\n",
    "    nn.ReLU(),\n",
    "    nn.Linear(512, 10)\n",
    ")\n",
    "\n",
    "model_resnet = nn.Sequential(\n",
    "    nn.Conv2d(3, 32, kernel_size=(3,3), padding=1),\n",
    "    nn.BatchNorm2d(32),\n",
    "    ResidualBlock(32, 32),\n",
    "    ResidualBlock(32, 32),\n",
    "    ResidualBlock(32, 32),\n",
    "    ResidualBlock(32, 32),\n",
    "    ResidualBlock(32, 32),\n",
    "    ResidualBlock(32, 64, downsample=True),\n",
    "    ResidualBlock(64, 64),\n",
    "    ResidualBlock(64, 64),\n",
    "    ResidualBlock(64, 64),\n",
    "    ResidualBlock(64, 64),\n",
    "    ResidualBlock(64, 128, downsample=True),\n",
    "    ResidualBlock(128, 128),\n",
    "    ResidualBlock(128, 128),\n",
    "    ResidualBlock(128, 128),\n",
    "    ResidualBlock(128, 128),\n",
    "    nn.AvgPool2d(kernel_size=(8,8)),\n",
    "    nn.Flatten(),\n",
    "    nn.Linear(128, 10)\n",
    ")"
   ]
  },
  {
   "cell_type": "code",
   "execution_count": 152,
   "id": "1c2d4890-1d88-4f3b-b233-e21e2c9f8ca1",
   "metadata": {},
   "outputs": [
    {
     "name": "stdout",
     "output_type": "stream",
     "text": [
      "---\n",
      "Training  conv_relu_pool \n",
      "---\n",
      "Train Epoch: [0/10] | Train Accuracy: 0.4476 | Validation Accuracy: 0.4420\n",
      "Train Epoch: [1/10] | Train Accuracy: 0.5675 | Validation Accuracy: 0.5700\n",
      "Train Epoch: [2/10] | Train Accuracy: 0.6409 | Validation Accuracy: 0.6240\n",
      "Train Epoch: [3/10] | Train Accuracy: 0.6856 | Validation Accuracy: 0.6580\n",
      "Train Epoch: [4/10] | Train Accuracy: 0.7251 | Validation Accuracy: 0.6790\n",
      "Train Epoch: [5/10] | Train Accuracy: 0.7580 | Validation Accuracy: 0.7180\n",
      "Train Epoch: [6/10] | Train Accuracy: 0.7549 | Validation Accuracy: 0.7080\n",
      "Train Epoch: [7/10] | Train Accuracy: 0.8298 | Validation Accuracy: 0.7570\n",
      "Train Epoch: [8/10] | Train Accuracy: 0.8452 | Validation Accuracy: 0.7550\n",
      "Train Epoch: [9/10] | Train Accuracy: 0.8698 | Validation Accuracy: 0.7590\n",
      "\n",
      "\n",
      "---\n",
      "Training  model_double_conv_relu_pool \n",
      "---\n",
      "Train Epoch: [0/10] | Train Accuracy: 0.1573 | Validation Accuracy: 0.1450\n",
      "Train Epoch: [1/10] | Train Accuracy: 0.3581 | Validation Accuracy: 0.3390\n",
      "Train Epoch: [2/10] | Train Accuracy: 0.4660 | Validation Accuracy: 0.4680\n",
      "Train Epoch: [3/10] | Train Accuracy: 0.5192 | Validation Accuracy: 0.5030\n",
      "Train Epoch: [4/10] | Train Accuracy: 0.5936 | Validation Accuracy: 0.5700\n",
      "Train Epoch: [5/10] | Train Accuracy: 0.6564 | Validation Accuracy: 0.6330\n",
      "Train Epoch: [6/10] | Train Accuracy: 0.7053 | Validation Accuracy: 0.6450\n",
      "Train Epoch: [7/10] | Train Accuracy: 0.7666 | Validation Accuracy: 0.6820\n",
      "Train Epoch: [8/10] | Train Accuracy: 0.7938 | Validation Accuracy: 0.7070\n",
      "Train Epoch: [9/10] | Train Accuracy: 0.8369 | Validation Accuracy: 0.7050\n",
      "\n",
      "\n",
      "---\n",
      "Training  model_double_conv_bn_relu_pool \n",
      "---\n",
      "Train Epoch: [0/10] | Train Accuracy: 0.7046 | Validation Accuracy: 0.6640\n",
      "Train Epoch: [1/10] | Train Accuracy: 0.7853 | Validation Accuracy: 0.7570\n",
      "Train Epoch: [2/10] | Train Accuracy: 0.8348 | Validation Accuracy: 0.7580\n",
      "Train Epoch: [3/10] | Train Accuracy: 0.8988 | Validation Accuracy: 0.8050\n",
      "Train Epoch: [4/10] | Train Accuracy: 0.8963 | Validation Accuracy: 0.7730\n",
      "Train Epoch: [5/10] | Train Accuracy: 0.9527 | Validation Accuracy: 0.8030\n",
      "Train Epoch: [6/10] | Train Accuracy: 0.9622 | Validation Accuracy: 0.7970\n",
      "Train Epoch: [7/10] | Train Accuracy: 0.9841 | Validation Accuracy: 0.8080\n",
      "Train Epoch: [8/10] | Train Accuracy: 0.9959 | Validation Accuracy: 0.8070\n",
      "Train Epoch: [9/10] | Train Accuracy: 0.9993 | Validation Accuracy: 0.8270\n",
      "\n",
      "\n",
      "---\n",
      "Training  model_multi_conv_bn_relu_pool \n",
      "---\n",
      "Train Epoch: [0/10] | Train Accuracy: 0.5544 | Validation Accuracy: 0.5690\n",
      "Train Epoch: [1/10] | Train Accuracy: 0.6719 | Validation Accuracy: 0.6660\n",
      "Train Epoch: [2/10] | Train Accuracy: 0.7516 | Validation Accuracy: 0.7210\n",
      "Train Epoch: [3/10] | Train Accuracy: 0.8040 | Validation Accuracy: 0.7540\n",
      "Train Epoch: [4/10] | Train Accuracy: 0.8094 | Validation Accuracy: 0.7390\n",
      "Train Epoch: [5/10] | Train Accuracy: 0.8783 | Validation Accuracy: 0.7860\n",
      "Train Epoch: [6/10] | Train Accuracy: 0.9074 | Validation Accuracy: 0.7850\n",
      "Train Epoch: [7/10] | Train Accuracy: 0.9205 | Validation Accuracy: 0.7980\n",
      "Train Epoch: [8/10] | Train Accuracy: 0.9246 | Validation Accuracy: 0.8170\n",
      "Train Epoch: [9/10] | Train Accuracy: 0.9149 | Validation Accuracy: 0.7840\n",
      "\n",
      "\n",
      "---\n",
      "Training  model_my_resnet \n",
      "---\n",
      "Train Epoch: [0/10] | Train Accuracy: 0.5943 | Validation Accuracy: 0.5870\n",
      "Train Epoch: [1/10] | Train Accuracy: 0.7511 | Validation Accuracy: 0.7070\n",
      "Train Epoch: [2/10] | Train Accuracy: 0.8278 | Validation Accuracy: 0.7450\n",
      "Train Epoch: [3/10] | Train Accuracy: 0.8667 | Validation Accuracy: 0.7560\n",
      "Train Epoch: [4/10] | Train Accuracy: 0.8980 | Validation Accuracy: 0.7470\n",
      "Train Epoch: [5/10] | Train Accuracy: 0.9404 | Validation Accuracy: 0.7770\n",
      "Train Epoch: [6/10] | Train Accuracy: 0.9287 | Validation Accuracy: 0.7480\n",
      "Train Epoch: [7/10] | Train Accuracy: 0.9912 | Validation Accuracy: 0.8020\n",
      "Train Epoch: [8/10] | Train Accuracy: 0.9994 | Validation Accuracy: 0.8310\n",
      "Train Epoch: [9/10] | Train Accuracy: 1.0000 | Validation Accuracy: 0.8310\n",
      "\n",
      "\n",
      "---\n",
      "Training  model_resnet \n",
      "---\n",
      "Train Epoch: [0/10] | Train Accuracy: 0.6085 | Validation Accuracy: 0.6120\n",
      "Train Epoch: [1/10] | Train Accuracy: 0.7347 | Validation Accuracy: 0.7220\n",
      "Train Epoch: [2/10] | Train Accuracy: 0.7921 | Validation Accuracy: 0.7590\n",
      "Train Epoch: [3/10] | Train Accuracy: 0.7636 | Validation Accuracy: 0.7190\n",
      "Train Epoch: [4/10] | Train Accuracy: 0.8091 | Validation Accuracy: 0.7280\n",
      "Train Epoch: [5/10] | Train Accuracy: 0.8680 | Validation Accuracy: 0.7900\n",
      "Train Epoch: [6/10] | Train Accuracy: 0.7946 | Validation Accuracy: 0.7210\n",
      "Train Epoch: [7/10] | Train Accuracy: 0.8135 | Validation Accuracy: 0.7190\n",
      "Train Epoch: [8/10] | Train Accuracy: 0.8369 | Validation Accuracy: 0.7170\n",
      "Train Epoch: [9/10] | Train Accuracy: 0.8968 | Validation Accuracy: 0.7800\n",
      "\n",
      "\n"
     ]
    }
   ],
   "source": [
    "models = {}\n",
    "training_log = {}\n",
    "models['conv_relu_pool'] = model_conv_relu_pool\n",
    "models['model_double_conv_relu_pool'] = model_double_conv_relu_pool\n",
    "models['model_double_conv_bn_relu_pool'] = model_double_conv_bn_relu_pool\n",
    "models['model_multi_conv_bn_relu_pool'] = model_multi_conv_bn_relu_pool\n",
    "models['model_my_resnet'] = model_my_resnet\n",
    "models['model_resnet'] = model_resnet\n",
    "\n",
    "for name, model in models.items():\n",
    "    print('---\\nTraining ', name, '\\n---')\n",
    "    optimizer = optim.SGD(model.parameters(), lr=learning_rate, momentum=0.9, nesterov=True)\n",
    "    training_log[name] = my_train(model, optimizer, epochs=10)\n",
    "    print('\\n')"
   ]
  },
  {
   "cell_type": "code",
   "execution_count": 159,
   "id": "4091f202-a67c-48d7-9ca4-93d1481cc759",
   "metadata": {},
   "outputs": [
    {
     "name": "stdout",
     "output_type": "stream",
     "text": [
      "---\n",
      "Training  model_my_resnet_deep \n",
      "---\n",
      "Train Epoch: [0/10] | Train Accuracy: 0.6097 | Validation Accuracy: 0.5990\n",
      "Train Epoch: [1/10] | Train Accuracy: 0.6465 | Validation Accuracy: 0.6240\n",
      "Train Epoch: [2/10] | Train Accuracy: 0.8207 | Validation Accuracy: 0.7460\n",
      "Train Epoch: [3/10] | Train Accuracy: 0.8612 | Validation Accuracy: 0.7650\n",
      "Train Epoch: [4/10] | Train Accuracy: 0.8891 | Validation Accuracy: 0.7580\n",
      "Train Epoch: [5/10] | Train Accuracy: 0.9497 | Validation Accuracy: 0.7780\n",
      "Train Epoch: [6/10] | Train Accuracy: 0.9284 | Validation Accuracy: 0.7470\n",
      "Train Epoch: [7/10] | Train Accuracy: 0.9860 | Validation Accuracy: 0.8010\n",
      "Train Epoch: [8/10] | Train Accuracy: 0.9956 | Validation Accuracy: 0.8090\n",
      "Train Epoch: [9/10] | Train Accuracy: 0.9995 | Validation Accuracy: 0.8260\n",
      "\n",
      "\n"
     ]
    }
   ],
   "source": [
    "model = nn.Sequential(\n",
    "    nn.Conv2d(3, 32, kernel_size=(3,3), padding=1),\n",
    "    nn.BatchNorm2d(32),\n",
    "    ResidualBlock(32, 32),\n",
    "    ResidualBlock(32, 32),\n",
    "    ResidualBlock(32, 32),\n",
    "    ResidualBlock(32, 32),\n",
    "    ResidualBlock(32, 32),\n",
    "    ResidualBlock(32, 64, downsample=True),\n",
    "    ResidualBlock(64, 64),\n",
    "    ResidualBlock(64, 64),\n",
    "    ResidualBlock(64, 64),\n",
    "    ResidualBlock(64, 64),\n",
    "    ResidualBlock(64, 128, downsample=True),\n",
    "    ResidualBlock(128, 128),\n",
    "    ResidualBlock(128, 128),\n",
    "    ResidualBlock(128, 128),\n",
    "    ResidualBlock(128, 128),\n",
    "    nn.MaxPool2d(2),\n",
    "    nn.Flatten(),\n",
    "    nn.Linear(128*4*4, 512),\n",
    "    nn.BatchNorm1d(512),\n",
    "    nn.ReLU(),\n",
    "    nn.Linear(512, 10)\n",
    ")\n",
    "\n",
    "name = 'model_my_resnet_deep'\n",
    "\n",
    "print('---\\nTraining ', name, '\\n---')\n",
    "optimizer = optim.SGD(model.parameters(), lr=learning_rate, momentum=0.9, nesterov=True)\n",
    "training_log[name] = my_train(model, optimizer, epochs=10)\n",
    "print('\\n')"
   ]
  },
  {
   "cell_type": "code",
   "execution_count": null,
   "id": "35f1ef4b-cb29-44ea-a8f5-8ee8830eb10f",
   "metadata": {},
   "outputs": [],
   "source": [
    "def plot_training_history(title, label, training_log, marker='.'):\n",
    "    \"\"\"utility function for plotting training history\"\"\"\n",
    "    plt.title(title)\n",
    "    plt.xlabel(label)\n",
    "\n",
    "    for name, (_, loss, train_acc, val_acc) in training_log:\n",
    "        label=name\n",
    "        plt.plot(loss[i], bn_marker, label=label)\n",
    "\n",
    "    plt.plot(bl_plot, bl_marker, label=label)\n",
    "    plt.legend(loc='lower center', ncol=num_bn+1) "
   ]
  },
  {
   "cell_type": "code",
   "execution_count": 160,
   "id": "b0462a9f-ab90-4d3d-9105-3a42332c7f96",
   "metadata": {},
   "outputs": [
    {
     "data": {
      "image/png": "[encoded data removed]",
      "text/plain": [
       "<Figure size 1500x1500 with 3 Axes>"
      ]
     },
     "metadata": {},
     "output_type": "display_data"
    }
   ],
   "source": [
    "import matplotlib.pyplot as plt\n",
    "\"\"\"\n",
    "plt.plot(training_acc_history, '-o', label='training_acc')\n",
    "plt.plot(val_acc_history, '-o', label='val_acc')\n",
    "\"\"\"\n",
    "\n",
    "fig, axes = plt.subplots(3, 1, figsize = (15,15))\n",
    "\n",
    "axes[0].set_title(\"Training loss\")\n",
    "axes[1].set_title(\"Training accuracy\")\n",
    "axes[2].set_title(\"Validation accuracy\")\n",
    "\n",
    "for name, log in training_log.items():\n",
    "    _, loss, train_acc, val_acc = log\n",
    "    axes[0].plot(loss, 'o', label=name)\n",
    "    axes[1].plot(train_acc, '-o', label=name)\n",
    "    axes[2].plot(val_acc, '-o', label=name)\n",
    "    axes[0].legend(loc='lower center', ncol=4)\n",
    "\n",
    "axes[0].legend(loc='upper center', ncol=len(training_log)/2)\n",
    "axes[1].legend(loc='lower center', ncol=len(training_log)/2)\n",
    "axes[2].legend(loc='lower center', ncol=len(training_log)/2)\n",
    "\n",
    "#plt.legend(loc='lower center', ncol=2)\n",
    "plt.tight_layout()\n",
    "plt.gcf().set_size_inches(15, 15)\n",
    "plt.show()"
   ]
  },
  {
   "cell_type": "code",
   "execution_count": 43,
   "id": "641acbb5",
   "metadata": {
    "test": "open_ended_accuracy"
   },
   "outputs": [
    {
     "name": "stdout",
     "output_type": "stream",
     "text": [
      "Iteration 0, loss = 2.3077\n",
      "Checking accuracy on validation set\n",
      "Got 100 / 1000 correct (10.00)\n",
      "\n",
      "Iteration 100, loss = 1.6388\n",
      "Checking accuracy on validation set\n",
      "Got 407 / 1000 correct (40.70)\n",
      "\n",
      "Iteration 200, loss = 1.6069\n",
      "Checking accuracy on validation set\n",
      "Got 471 / 1000 correct (47.10)\n",
      "\n",
      "Iteration 300, loss = 1.4086\n",
      "Checking accuracy on validation set\n",
      "Got 532 / 1000 correct (53.20)\n",
      "\n",
      "Iteration 400, loss = 1.3560\n",
      "Checking accuracy on validation set\n",
      "Got 552 / 1000 correct (55.20)\n",
      "\n",
      "Iteration 500, loss = 1.0661\n",
      "Checking accuracy on validation set\n",
      "Got 605 / 1000 correct (60.50)\n",
      "\n",
      "Iteration 600, loss = 0.8652\n",
      "Checking accuracy on validation set\n",
      "Got 598 / 1000 correct (59.80)\n",
      "\n",
      "Iteration 700, loss = 1.1205\n",
      "Checking accuracy on validation set\n",
      "Got 584 / 1000 correct (58.40)\n",
      "\n",
      "Iteration 0, loss = 0.7218\n",
      "Checking accuracy on validation set\n",
      "Got 629 / 1000 correct (62.90)\n",
      "\n",
      "Iteration 100, loss = 0.7006\n",
      "Checking accuracy on validation set\n",
      "Got 665 / 1000 correct (66.50)\n",
      "\n",
      "Iteration 200, loss = 1.0535\n",
      "Checking accuracy on validation set\n",
      "Got 644 / 1000 correct (64.40)\n",
      "\n",
      "Iteration 300, loss = 0.8355\n",
      "Checking accuracy on validation set\n",
      "Got 695 / 1000 correct (69.50)\n",
      "\n",
      "Iteration 400, loss = 1.0781\n",
      "Checking accuracy on validation set\n",
      "Got 688 / 1000 correct (68.80)\n",
      "\n",
      "Iteration 500, loss = 0.7258\n",
      "Checking accuracy on validation set\n",
      "Got 690 / 1000 correct (69.00)\n",
      "\n",
      "Iteration 600, loss = 1.2748\n",
      "Checking accuracy on validation set\n",
      "Got 693 / 1000 correct (69.30)\n",
      "\n",
      "Iteration 700, loss = 0.8437\n",
      "Checking accuracy on validation set\n",
      "Got 714 / 1000 correct (71.40)\n",
      "\n",
      "Iteration 0, loss = 0.8896\n",
      "Checking accuracy on validation set\n",
      "Got 693 / 1000 correct (69.30)\n",
      "\n",
      "Iteration 100, loss = 0.6473\n",
      "Checking accuracy on validation set\n",
      "Got 689 / 1000 correct (68.90)\n",
      "\n",
      "Iteration 200, loss = 0.5800\n",
      "Checking accuracy on validation set\n",
      "Got 730 / 1000 correct (73.00)\n",
      "\n",
      "Iteration 300, loss = 1.0558\n",
      "Checking accuracy on validation set\n",
      "Got 722 / 1000 correct (72.20)\n",
      "\n",
      "Iteration 400, loss = 0.6935\n",
      "Checking accuracy on validation set\n",
      "Got 716 / 1000 correct (71.60)\n",
      "\n",
      "Iteration 500, loss = 0.6496\n",
      "Checking accuracy on validation set\n",
      "Got 735 / 1000 correct (73.50)\n",
      "\n",
      "Iteration 600, loss = 0.7796\n",
      "Checking accuracy on validation set\n",
      "Got 739 / 1000 correct (73.90)\n",
      "\n",
      "Iteration 700, loss = 0.6576\n",
      "Checking accuracy on validation set\n",
      "Got 738 / 1000 correct (73.80)\n",
      "\n",
      "Iteration 0, loss = 0.6851\n",
      "Checking accuracy on validation set\n",
      "Got 731 / 1000 correct (73.10)\n",
      "\n",
      "Iteration 100, loss = 0.8409\n",
      "Checking accuracy on validation set\n",
      "Got 747 / 1000 correct (74.70)\n",
      "\n",
      "Iteration 200, loss = 0.8087\n",
      "Checking accuracy on validation set\n",
      "Got 748 / 1000 correct (74.80)\n",
      "\n",
      "Iteration 300, loss = 0.8739\n",
      "Checking accuracy on validation set\n",
      "Got 738 / 1000 correct (73.80)\n",
      "\n",
      "Iteration 400, loss = 0.5226\n",
      "Checking accuracy on validation set\n",
      "Got 747 / 1000 correct (74.70)\n",
      "\n",
      "Iteration 500, loss = 0.5068\n",
      "Checking accuracy on validation set\n",
      "Got 735 / 1000 correct (73.50)\n",
      "\n",
      "Iteration 600, loss = 0.7198\n",
      "Checking accuracy on validation set\n",
      "Got 749 / 1000 correct (74.90)\n",
      "\n",
      "Iteration 700, loss = 0.8075\n",
      "Checking accuracy on validation set\n",
      "Got 757 / 1000 correct (75.70)\n",
      "\n",
      "Iteration 0, loss = 0.5266\n",
      "Checking accuracy on validation set\n",
      "Got 770 / 1000 correct (77.00)\n",
      "\n",
      "Iteration 100, loss = 0.3575\n",
      "Checking accuracy on validation set\n",
      "Got 782 / 1000 correct (78.20)\n",
      "\n",
      "Iteration 200, loss = 0.5726\n",
      "Checking accuracy on validation set\n",
      "Got 781 / 1000 correct (78.10)\n",
      "\n",
      "Iteration 300, loss = 0.5368\n",
      "Checking accuracy on validation set\n",
      "Got 769 / 1000 correct (76.90)\n",
      "\n",
      "Iteration 400, loss = 0.7979\n",
      "Checking accuracy on validation set\n",
      "Got 763 / 1000 correct (76.30)\n",
      "\n",
      "Iteration 500, loss = 0.5207\n",
      "Checking accuracy on validation set\n",
      "Got 764 / 1000 correct (76.40)\n",
      "\n",
      "Iteration 600, loss = 0.7726\n",
      "Checking accuracy on validation set\n",
      "Got 743 / 1000 correct (74.30)\n",
      "\n",
      "Iteration 700, loss = 0.4581\n",
      "Checking accuracy on validation set\n",
      "Got 744 / 1000 correct (74.40)\n",
      "\n",
      "Iteration 0, loss = 0.4337\n",
      "Checking accuracy on validation set\n",
      "Got 755 / 1000 correct (75.50)\n",
      "\n",
      "Iteration 100, loss = 0.3056\n",
      "Checking accuracy on validation set\n",
      "Got 793 / 1000 correct (79.30)\n",
      "\n",
      "Iteration 200, loss = 0.6076\n",
      "Checking accuracy on validation set\n",
      "Got 760 / 1000 correct (76.00)\n",
      "\n",
      "Iteration 300, loss = 0.3425\n",
      "Checking accuracy on validation set\n",
      "Got 752 / 1000 correct (75.20)\n",
      "\n",
      "Iteration 400, loss = 0.5485\n",
      "Checking accuracy on validation set\n",
      "Got 764 / 1000 correct (76.40)\n",
      "\n",
      "Iteration 500, loss = 0.5608\n",
      "Checking accuracy on validation set\n",
      "Got 765 / 1000 correct (76.50)\n",
      "\n",
      "Iteration 600, loss = 0.3794\n",
      "Checking accuracy on validation set\n",
      "Got 757 / 1000 correct (75.70)\n",
      "\n",
      "Iteration 700, loss = 0.7269\n",
      "Checking accuracy on validation set\n",
      "Got 768 / 1000 correct (76.80)\n",
      "\n",
      "Iteration 0, loss = 0.3349\n",
      "Checking accuracy on validation set\n",
      "Got 755 / 1000 correct (75.50)\n",
      "\n",
      "Iteration 100, loss = 0.3917\n",
      "Checking accuracy on validation set\n",
      "Got 772 / 1000 correct (77.20)\n",
      "\n",
      "Iteration 200, loss = 0.5078\n",
      "Checking accuracy on validation set\n",
      "Got 773 / 1000 correct (77.30)\n",
      "\n",
      "Iteration 300, loss = 0.4594\n",
      "Checking accuracy on validation set\n",
      "Got 753 / 1000 correct (75.30)\n",
      "\n",
      "Iteration 400, loss = 0.3691\n",
      "Checking accuracy on validation set\n",
      "Got 761 / 1000 correct (76.10)\n",
      "\n",
      "Iteration 500, loss = 0.3946\n",
      "Checking accuracy on validation set\n",
      "Got 762 / 1000 correct (76.20)\n",
      "\n",
      "Iteration 600, loss = 0.1706\n",
      "Checking accuracy on validation set\n",
      "Got 766 / 1000 correct (76.60)\n",
      "\n",
      "Iteration 700, loss = 0.4005\n",
      "Checking accuracy on validation set\n",
      "Got 747 / 1000 correct (74.70)\n",
      "\n",
      "Iteration 0, loss = 0.2617\n",
      "Checking accuracy on validation set\n",
      "Got 757 / 1000 correct (75.70)\n",
      "\n",
      "Iteration 100, loss = 0.2807\n",
      "Checking accuracy on validation set\n",
      "Got 762 / 1000 correct (76.20)\n",
      "\n",
      "Iteration 200, loss = 0.2395\n",
      "Checking accuracy on validation set\n",
      "Got 768 / 1000 correct (76.80)\n",
      "\n",
      "Iteration 300, loss = 0.4142\n",
      "Checking accuracy on validation set\n",
      "Got 760 / 1000 correct (76.00)\n",
      "\n",
      "Iteration 400, loss = 0.5225\n",
      "Checking accuracy on validation set\n",
      "Got 767 / 1000 correct (76.70)\n",
      "\n",
      "Iteration 500, loss = 0.3328\n",
      "Checking accuracy on validation set\n",
      "Got 770 / 1000 correct (77.00)\n",
      "\n",
      "Iteration 600, loss = 0.4128\n",
      "Checking accuracy on validation set\n",
      "Got 750 / 1000 correct (75.00)\n",
      "\n",
      "Iteration 700, loss = 0.3669\n",
      "Checking accuracy on validation set\n",
      "Got 746 / 1000 correct (74.60)\n",
      "\n",
      "Iteration 0, loss = 0.3610\n",
      "Checking accuracy on validation set\n",
      "Got 771 / 1000 correct (77.10)\n",
      "\n",
      "Iteration 100, loss = 0.4018\n",
      "Checking accuracy on validation set\n",
      "Got 757 / 1000 correct (75.70)\n",
      "\n",
      "Iteration 200, loss = 0.3744\n",
      "Checking accuracy on validation set\n",
      "Got 772 / 1000 correct (77.20)\n",
      "\n",
      "Iteration 300, loss = 0.5388\n",
      "Checking accuracy on validation set\n",
      "Got 761 / 1000 correct (76.10)\n",
      "\n",
      "Iteration 400, loss = 0.3137\n",
      "Checking accuracy on validation set\n",
      "Got 770 / 1000 correct (77.00)\n",
      "\n",
      "Iteration 500, loss = 0.3165\n",
      "Checking accuracy on validation set\n",
      "Got 764 / 1000 correct (76.40)\n",
      "\n",
      "Iteration 600, loss = 0.2937\n",
      "Checking accuracy on validation set\n",
      "Got 774 / 1000 correct (77.40)\n",
      "\n",
      "Iteration 700, loss = 0.3559\n",
      "Checking accuracy on validation set\n",
      "Got 747 / 1000 correct (74.70)\n",
      "\n",
      "Iteration 0, loss = 0.5169\n",
      "Checking accuracy on validation set\n",
      "Got 757 / 1000 correct (75.70)\n",
      "\n",
      "Iteration 100, loss = 0.1807\n",
      "Checking accuracy on validation set\n",
      "Got 751 / 1000 correct (75.10)\n",
      "\n",
      "Iteration 200, loss = 0.3255\n",
      "Checking accuracy on validation set\n",
      "Got 762 / 1000 correct (76.20)\n",
      "\n",
      "Iteration 300, loss = 0.2831\n",
      "Checking accuracy on validation set\n",
      "Got 778 / 1000 correct (77.80)\n",
      "\n",
      "Iteration 400, loss = 0.4896\n",
      "Checking accuracy on validation set\n",
      "Got 755 / 1000 correct (75.50)\n",
      "\n",
      "Iteration 500, loss = 0.4003\n",
      "Checking accuracy on validation set\n",
      "Got 763 / 1000 correct (76.30)\n",
      "\n",
      "Iteration 600, loss = 0.1214\n",
      "Checking accuracy on validation set\n",
      "Got 741 / 1000 correct (74.10)\n",
      "\n",
      "Iteration 700, loss = 0.3671\n",
      "Checking accuracy on validation set\n",
      "Got 770 / 1000 correct (77.00)\n",
      "\n"
     ]
    }
   ],
   "source": [
    "################################################################################\n",
    "# TODO:                                                                        #         \n",
    "# Experiment with any architectures, optimizers, and hyperparameters.          #\n",
    "# Achieve AT LEAST 70% accuracy on the *validation set* within 10 epochs.      #\n",
    "#                                                                              #\n",
    "# Note that you can use the check_accuracy function to evaluate on either      #\n",
    "# the test set or the validation set, by passing either loader_test or         #\n",
    "# loader_val as the second argument to check_accuracy. You should not touch    #\n",
    "# the test set until you have finished your architecture and  hyperparameter   #\n",
    "# tuning, and only run the test set once at the end to report a final value.   #\n",
    "################################################################################\n",
    "model = None\n",
    "optimizer = None\n",
    "\n",
    "# *****START OF YOUR CODE (DO NOT DELETE/MODIFY THIS LINE)*****\n",
    "\n",
    "model = nn.Sequential(\n",
    "            nn.Conv2d(3, 32, (3, 3), padding=1),\n",
    "            nn.ReLU(),\n",
    "            nn.MaxPool2d(2),\n",
    "            nn.Conv2d(32, 64, (3, 3), padding=1),\n",
    "            nn.ReLU(),\n",
    "            nn.MaxPool2d(2),\n",
    "            nn.Conv2d(64, 128, (3, 3), padding=1),\n",
    "            nn.ReLU(),\n",
    "            nn.MaxPool2d(2),\n",
    "            nn.Flatten(),\n",
    "            nn.Linear(128*4*4, 10)\n",
    ")\n",
    "\n",
    "optimizer = optim.SGD(model.parameters(), lr=learning_rate, momentum=0.9, nesterov=True)\n",
    "\n",
    "# *****END OF YOUR CODE (DO NOT DELETE/MODIFY THIS LINE)*****\n",
    "################################################################################\n",
    "#                                 END OF YOUR CODE                             #\n",
    "################################################################################\n",
    "\n",
    "# You should get at least 70% accuracy.\n",
    "# You may modify the number of epochs to any number below 15.\n",
    "train_part34(model, optimizer, epochs=10)"
   ]
  },
  {
   "cell_type": "markdown",
   "id": "bd2055f1",
   "metadata": {
    "tags": [
     "pdf-inline"
    ]
   },
   "source": [
    "## Describe what you did \n",
    "\n",
    "In the cell below you should write an explanation of what you did, any additional features that you implemented, and/or any graphs that you made in the process of training and evaluating your network."
   ]
  },
  {
   "cell_type": "markdown",
   "id": "e41fb722",
   "metadata": {
    "tags": [
     "pdf-inline"
    ]
   },
   "source": [
    "**Answer:**\n",
    "\n"
   ]
  },
  {
   "cell_type": "markdown",
   "id": "553b3d2d",
   "metadata": {},
   "source": [
    "## Test set -- run this only once\n",
    "\n",
    "Now that we've gotten a result we're happy with, we test our final model on the test set (which you should store in best_model). Think about how this compares to your validation set accuracy."
   ]
  },
  {
   "cell_type": "code",
   "execution_count": null,
   "id": "6ab2cc23",
   "metadata": {},
   "outputs": [],
   "source": [
    "best_model = model\n",
    "check_accuracy_part34(loader_test, best_model)"
   ]
  }
 ],
 "metadata": {
  "kernelspec": {
   "display_name": "Python 3 (ipykernel)",
   "language": "python",
   "name": "python3"
  },
  "language_info": {
   "codemirror_mode": {
    "name": "ipython",
    "version": 3
   },
   "file_extension": ".py",
   "mimetype": "text/x-python",
   "name": "python",
   "nbconvert_exporter": "python",
   "pygments_lexer": "ipython3",
   "version": "3.9.19"
  }
 },
 "nbformat": 4,
 "nbformat_minor": 5
}
